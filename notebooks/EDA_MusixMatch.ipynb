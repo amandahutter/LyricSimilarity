{
 "cells": [
  {
   "cell_type": "code",
   "execution_count": 3,
   "metadata": {},
   "outputs": [],
   "source": [
    "import os\n",
    "import pandas as pd\n",
    "import time\n",
    "import numpy as np\n",
    "\n",
    "# Visualize\n",
    "import matplotlib.pyplot as plt\n",
    "import matplotlib.cm as cm \n",
    "\n",
    "# Unsupervised Learning\n",
    "import matplotlib.cm as cm\n",
    "from sklearn.cluster import KMeans \n",
    "from sklearn.metrics import silhouette_samples, silhouette_score"
   ]
  },
  {
   "cell_type": "code",
   "execution_count": 4,
   "metadata": {},
   "outputs": [],
   "source": [
    "folder = os.getcwd()"
   ]
  },
  {
   "cell_type": "code",
   "execution_count": 5,
   "metadata": {},
   "outputs": [
    {
     "data": {
      "text/plain": [
       "['EDA_MusixMatch.ipynb',\n",
       " 'mxm_dataset_train.txt',\n",
       " 'mxm_dataset_test.txt',\n",
       " 'mxm_779k_matches.txt',\n",
       " '.ipynb_checkpoints',\n",
       " 'how_many_inputs.py']"
      ]
     },
     "execution_count": 5,
     "metadata": {},
     "output_type": "execute_result"
    }
   ],
   "source": [
    "os.listdir(folder)"
   ]
  },
  {
   "cell_type": "code",
   "execution_count": null,
   "metadata": {},
   "outputs": [],
   "source": [
    "# Examine what dataset looks like\n",
    "file1 = open('mxm_dataset_train.txt', 'r')\n",
    "Lines = file1.readlines()\n",
    " \n",
    "count = 0\n",
    "# Strips the newline character\n",
    "for line in Lines:\n",
    "    count += 1\n",
    "    print(\"Line{}: {}\".format(count, line.strip()))"
   ]
  },
  {
   "cell_type": "markdown",
   "metadata": {},
   "source": [
    "Indexed from '1'\n",
    "- Lines 1-17: Comments \n",
    "- Line 18: Word  Dictionary of 5000 top words\n",
    "- Line 19-End: Track Info"
   ]
  },
  {
   "cell_type": "markdown",
   "metadata": {},
   "source": [
    "#### Create Word List of Top 5000 Words "
   ]
  },
  {
   "cell_type": "code",
   "execution_count": 10,
   "metadata": {},
   "outputs": [],
   "source": [
    "# Create Word List \n",
    "file1 = open('mxm_dataset_train.txt', 'r')\n",
    "Lines = file1.readlines()\n",
    "\n",
    "count = 0\n",
    "for line in Lines:\n",
    "    if count == 17:\n",
    "        word_list = line.strip(\" \").strip(\"%\").split(\",\")\n",
    "    count += 1 "
   ]
  },
  {
   "cell_type": "code",
   "execution_count": 11,
   "metadata": {},
   "outputs": [
    {
     "name": "stdout",
     "output_type": "stream",
     "text": [
      "Number of top words in word list: 5000\n"
     ]
    }
   ],
   "source": [
    "print(\"Number of top words in word list:\",len(word_list))"
   ]
  },
  {
   "cell_type": "code",
   "execution_count": 13,
   "metadata": {},
   "outputs": [
    {
     "name": "stdout",
     "output_type": "stream",
     "text": [
      "Number of tracks in dataset: 210537\n"
     ]
    }
   ],
   "source": [
    "print(\"Number of tracks in dataset:\",len(Lines))"
   ]
  },
  {
   "cell_type": "code",
   "execution_count": 14,
   "metadata": {},
   "outputs": [
    {
     "data": {
      "text/plain": [
       "['i', 'the', 'you', 'to', 'and', 'a', 'me', 'it', 'not', 'in']"
      ]
     },
     "execution_count": 14,
     "metadata": {},
     "output_type": "execute_result"
    }
   ],
   "source": [
    "# Word List is a List of the top 5000 Words \n",
    "word_list[:10]"
   ]
  },
  {
   "cell_type": "code",
   "execution_count": 47,
   "metadata": {},
   "outputs": [],
   "source": [
    "# Create Song Dictionaries \n",
    "\n",
    "file1 = open('mxm_dataset_train.txt', 'r')\n",
    "Lines = file1.readlines()\n",
    "\n",
    "count = 0\n",
    "list_song_dicts = []\n",
    "\n",
    "for line in Lines:\n",
    "    if count > 18:\n",
    "        line_strip = line.strip(\"\\n\").strip(\"\\'\").split(\",\")\n",
    "        MSD_ID = line_strip[0]\n",
    "        MXM_ID = line_strip[1]\n",
    "        \n",
    "        inds_count_list =  line_strip[2:]\n",
    "        word_count_list = [] \n",
    "        for i in range(0, len(inds_count_list)):\n",
    "            ind, count_w = inds_count_list[i].split(\":\")\n",
    "            ind = int(ind)\n",
    "            ind -= 1 # The Indices start from 1, Decrement to use list \n",
    "            w = word_list[ind]\n",
    "            word_count_list.append((w, count_w))\n",
    "        \n",
    "        \n",
    "        song_dict = {'msd_id': MSD_ID,\n",
    "                    'mxm_id': MXM_ID,\n",
    "                    'word_counts': word_count_list, \n",
    "                    'inds_counts': inds_count_list}\n",
    "        list_song_dicts.append(song_dict)\n",
    "    count += 1\n",
    "    if count > 10018:\n",
    "        break\n"
   ]
  },
  {
   "cell_type": "code",
   "execution_count": 48,
   "metadata": {},
   "outputs": [
    {
     "data": {
      "text/plain": [
       "10000"
      ]
     },
     "execution_count": 48,
     "metadata": {},
     "output_type": "execute_result"
    }
   ],
   "source": [
    "len(list_song_dicts)"
   ]
  },
  {
   "cell_type": "markdown",
   "metadata": {},
   "source": [
    "#### list_song_dicts is a List of Dictionaries. Each dictionary represents one of 9982 tracks in the sample from the large dataset\n",
    "- msd_id is the Million Song Dataset ID \n",
    "- mxm_id is the MusixMatch Dataset ID \n",
    "- word_counts is a list of tuple pairs, where the first item in each tuple is the word token, followed by the count it appears in the song track \n",
    "- inds_counts is a list of tuple pairs, where the first item is the original index (starting from 1) to link to word list. This was used to create word_counts, above"
   ]
  },
  {
   "cell_type": "code",
   "execution_count": 56,
   "metadata": {},
   "outputs": [
    {
     "data": {
      "text/plain": [
       "{'msd_id': 'TRAAAGF12903CEC202',\n",
       " 'mxm_id': '5493388',\n",
       " 'word_counts': [('en', '1'),\n",
       "  ('e', '1'),\n",
       "  ('end', '1'),\n",
       "  ('du', '2'),\n",
       "  ('et', '1'),\n",
       "  ('fine', '1'),\n",
       "  ('som', '1'),\n",
       "  ('n', '1'),\n",
       "  ('ei', '1'),\n",
       "  ('og', '1'),\n",
       "  ('så', '1'),\n",
       "  ('mot', '2'),\n",
       "  ('min', '1'),\n",
       "  ('din', '1'),\n",
       "  ('alt', '1'),\n",
       "  ('inn', '1'),\n",
       "  ('leve', '1'),\n",
       "  ('når', '1'),\n",
       "  ('gi', '1')],\n",
       " 'inds_counts': ['90:1',\n",
       "  '151:1',\n",
       "  '164:1',\n",
       "  '181:2',\n",
       "  '243:1',\n",
       "  '453:1',\n",
       "  '710:1',\n",
       "  '716:1',\n",
       "  '897:1',\n",
       "  '978:1',\n",
       "  '1349:1',\n",
       "  '1733:2',\n",
       "  '1736:1',\n",
       "  '2145:1',\n",
       "  '2806:1',\n",
       "  '4294:1',\n",
       "  '4330:1',\n",
       "  '4502:1',\n",
       "  '4684:1']}"
      ]
     },
     "execution_count": 56,
     "metadata": {},
     "output_type": "execute_result"
    }
   ],
   "source": [
    "list_song_dicts[5]"
   ]
  },
  {
   "cell_type": "markdown",
   "metadata": {},
   "source": [
    "#### Compare Run Time for List Comprehension Version"
   ]
  },
  {
   "cell_type": "code",
   "execution_count": 57,
   "metadata": {},
   "outputs": [
    {
     "name": "stdout",
     "output_type": "stream",
     "text": [
      "Time: 0.22057509422302246\n"
     ]
    }
   ],
   "source": [
    "# Create Song Dictionaries \n",
    "\n",
    "start = time.time()\n",
    "\n",
    "file1 = open('mxm_dataset_train.txt', 'r')\n",
    "Lines = file1.readlines()\n",
    "\n",
    "count = 0\n",
    "list_song_dicts = []\n",
    "\n",
    "for line in Lines:\n",
    "    if count > 18:\n",
    "        line_strip = line.strip(\"\\n\").strip(\"\\'\").split(\",\")\n",
    "        MSD_ID = line_strip[0]\n",
    "        MXM_ID = line_strip[1]\n",
    "        \n",
    "        inds_count_list =  line_strip[2:]\n",
    "        \n",
    "        #print(inds_count_list)\n",
    "        \n",
    "        # List Comprehension\n",
    "        word_count_list = [ (word_list[int(x.split(\":\")[0])-1], x.split(\":\")[1]) for x in inds_count_list]\n",
    "        #print(word_count_list)\n",
    "        \n",
    "        \n",
    "        song_dict = {'msd_id': MSD_ID,\n",
    "                    'mxm_id': MXM_ID,\n",
    "                    'word_counts': word_count_list, \n",
    "                    'inds_counts': inds_count_list}\n",
    "        list_song_dicts.append(song_dict)\n",
    "    count += 1\n",
    "    if count > 100:\n",
    "        break\n",
    "end = time.time()\n",
    "print(\"Time:\", end - start)\n"
   ]
  },
  {
   "cell_type": "code",
   "execution_count": 58,
   "metadata": {},
   "outputs": [
    {
     "name": "stdout",
     "output_type": "stream",
     "text": [
      "Time: 0.14188694953918457\n"
     ]
    }
   ],
   "source": [
    "# Create Song Dictionaries \n",
    "start = time.time()\n",
    "\n",
    "file1 = open('mxm_dataset_train.txt', 'r')\n",
    "Lines = file1.readlines()\n",
    "\n",
    "count = 0\n",
    "list_song_dicts = []\n",
    "\n",
    "for line in Lines:\n",
    "    if count > 18:\n",
    "        line_strip = line.strip(\"\\n\").strip(\"\\'\").split(\",\")\n",
    "        MSD_ID = line_strip[0]\n",
    "        MXM_ID = line_strip[1]\n",
    "        \n",
    "        inds_count_list =  line_strip[2:]\n",
    "        word_count_list = [] \n",
    "        \n",
    "        for i in range(0, len(inds_count_list)):\n",
    "            ind, count_w = inds_count_list[i].split(\":\")\n",
    "            ind = int(ind)\n",
    "            ind -= 1 # The Indices start from 1, Decrement to use list \n",
    "            w = word_list[ind]\n",
    "            word_count_list.append((w, count_w))\n",
    "        \n",
    "        \n",
    "        song_dict = {'msd_id': MSD_ID,\n",
    "                    'mxm_id': MXM_ID,\n",
    "                    'word_counts': word_count_list, \n",
    "                    'inds_counts': inds_count_list}\n",
    "        list_song_dicts.append(song_dict)\n",
    "    count += 1\n",
    "    if count > 100:\n",
    "        break\n",
    "\n",
    "end = time.time()\n",
    "print(\"Time:\",end - start)"
   ]
  },
  {
   "cell_type": "markdown",
   "metadata": {},
   "source": [
    "#### Make a DataFrame from data for easier ML model ingestion"
   ]
  },
  {
   "cell_type": "code",
   "execution_count": 62,
   "metadata": {},
   "outputs": [
    {
     "name": "stdout",
     "output_type": "stream",
     "text": [
      "Time: 9.008668184280396\n"
     ]
    }
   ],
   "source": [
    "# Create Song Dictionaries \n",
    "\n",
    "start = time.time()\n",
    "\n",
    "file1 = open('mxm_dataset_train.txt', 'r')\n",
    "Lines = file1.readlines()\n",
    "\n",
    "it = 0\n",
    "list_song_dicts = []\n",
    "\n",
    "# Use this as dataframe start\n",
    "header_cols = ['msd_id', 'mxm_id']\n",
    "header_cols.extend(word_list)\n",
    "\n",
    "song_df = pd.DataFrame(columns = header_cols)\n",
    "\n",
    "list_dicts = []\n",
    "\n",
    "for line in Lines:\n",
    "    if (it > 18):\n",
    "        line_strip = line.strip(\"\\n\").strip(\"\\'\").split(\",\")\n",
    "        MSD_ID = line_strip[0]\n",
    "        MXM_ID = line_strip[1]\n",
    "        \n",
    "        inds_count_list =  line_strip[2:]\n",
    "         \n",
    "        \n",
    "        # Tuple Pair Created where First Value is Word, Second Value is Word count \n",
    "        word_count_list = [ (word_list[int(x.split(\":\")[0])-1], x.split(\":\")[1]) for x in inds_count_list]\n",
    "        #print(word_count_list)\n",
    "        \n",
    "        # Tuple Pair Created where First Value is Index in word_list, Second Val is Word Count \n",
    "        int_count_list = [ (int(x.split(\":\")[0])-1, int(x.split(\":\")[1])) for x in inds_count_list]\n",
    "        #print(int_count_list)\n",
    "        \n",
    "        np_counts =  np.zeros(len(word_list))\n",
    "        \n",
    "        # Iterate over the count list for this given Track \n",
    "        for i in range(0, len(int_count_list)):\n",
    "            ind, w_count = int_count_list[i]\n",
    "            np_counts[ind] = w_count #At the appropriate index, add word count \n",
    "        \n",
    "        \n",
    "        # Turn Numpy array to List\n",
    "        list_counts = list(np_counts)\n",
    "        #print(list_counts)\n",
    "        \n",
    "        # Extend Row for Track data \n",
    "        row_vals = [MSD_ID, MXM_ID]\n",
    "        row_vals.extend(list_counts)\n",
    "        #print(row_vals)\n",
    "        \n",
    "        # Create a Dictionary, Header Cols and Row Values \n",
    "        list_dicts.append(dict(zip(header_cols, row_vals)))\n",
    "            \n",
    "        \n",
    "    it += 1  \n",
    "    \n",
    "    if it > 10018:\n",
    "        break\n",
    "    \n",
    "        \n",
    "end = time.time()\n",
    "print(\"Time:\", end - start)\n"
   ]
  },
  {
   "cell_type": "code",
   "execution_count": 63,
   "metadata": {},
   "outputs": [
    {
     "data": {
      "text/html": [
       "<div>\n",
       "<style scoped>\n",
       "    .dataframe tbody tr th:only-of-type {\n",
       "        vertical-align: middle;\n",
       "    }\n",
       "\n",
       "    .dataframe tbody tr th {\n",
       "        vertical-align: top;\n",
       "    }\n",
       "\n",
       "    .dataframe thead th {\n",
       "        text-align: right;\n",
       "    }\n",
       "</style>\n",
       "<table border=\"1\" class=\"dataframe\">\n",
       "  <thead>\n",
       "    <tr style=\"text-align: right;\">\n",
       "      <th></th>\n",
       "      <th>msd_id</th>\n",
       "      <th>mxm_id</th>\n",
       "      <th>i</th>\n",
       "      <th>the</th>\n",
       "      <th>you</th>\n",
       "      <th>to</th>\n",
       "      <th>and</th>\n",
       "      <th>a</th>\n",
       "      <th>me</th>\n",
       "      <th>it</th>\n",
       "      <th>...</th>\n",
       "      <th>writer</th>\n",
       "      <th>motivo</th>\n",
       "      <th>bake</th>\n",
       "      <th>insist</th>\n",
       "      <th>wel</th>\n",
       "      <th>santo</th>\n",
       "      <th>pe</th>\n",
       "      <th>gee</th>\n",
       "      <th>colleg</th>\n",
       "      <th>kad\\n</th>\n",
       "    </tr>\n",
       "  </thead>\n",
       "  <tbody>\n",
       "    <tr>\n",
       "      <th>0</th>\n",
       "      <td>TRAAABD128F429CF47</td>\n",
       "      <td>6477168</td>\n",
       "      <td>10.0</td>\n",
       "      <td>0.0</td>\n",
       "      <td>17.0</td>\n",
       "      <td>8.0</td>\n",
       "      <td>2.0</td>\n",
       "      <td>2.0</td>\n",
       "      <td>1.0</td>\n",
       "      <td>3.0</td>\n",
       "      <td>...</td>\n",
       "      <td>0.0</td>\n",
       "      <td>0.0</td>\n",
       "      <td>0.0</td>\n",
       "      <td>0.0</td>\n",
       "      <td>0.0</td>\n",
       "      <td>0.0</td>\n",
       "      <td>0.0</td>\n",
       "      <td>0.0</td>\n",
       "      <td>0.0</td>\n",
       "      <td>0.0</td>\n",
       "    </tr>\n",
       "    <tr>\n",
       "      <th>1</th>\n",
       "      <td>TRAAAED128E0783FAB</td>\n",
       "      <td>2516445</td>\n",
       "      <td>28.0</td>\n",
       "      <td>15.0</td>\n",
       "      <td>2.0</td>\n",
       "      <td>12.0</td>\n",
       "      <td>22.0</td>\n",
       "      <td>2.0</td>\n",
       "      <td>2.0</td>\n",
       "      <td>4.0</td>\n",
       "      <td>...</td>\n",
       "      <td>0.0</td>\n",
       "      <td>0.0</td>\n",
       "      <td>0.0</td>\n",
       "      <td>0.0</td>\n",
       "      <td>0.0</td>\n",
       "      <td>0.0</td>\n",
       "      <td>0.0</td>\n",
       "      <td>0.0</td>\n",
       "      <td>0.0</td>\n",
       "      <td>0.0</td>\n",
       "    </tr>\n",
       "    <tr>\n",
       "      <th>2</th>\n",
       "      <td>TRAAAEF128F4273421</td>\n",
       "      <td>3759847</td>\n",
       "      <td>5.0</td>\n",
       "      <td>4.0</td>\n",
       "      <td>3.0</td>\n",
       "      <td>2.0</td>\n",
       "      <td>1.0</td>\n",
       "      <td>11.0</td>\n",
       "      <td>0.0</td>\n",
       "      <td>0.0</td>\n",
       "      <td>...</td>\n",
       "      <td>0.0</td>\n",
       "      <td>0.0</td>\n",
       "      <td>0.0</td>\n",
       "      <td>0.0</td>\n",
       "      <td>0.0</td>\n",
       "      <td>0.0</td>\n",
       "      <td>0.0</td>\n",
       "      <td>0.0</td>\n",
       "      <td>0.0</td>\n",
       "      <td>0.0</td>\n",
       "    </tr>\n",
       "    <tr>\n",
       "      <th>3</th>\n",
       "      <td>TRAAAEW128F42930C0</td>\n",
       "      <td>3783760</td>\n",
       "      <td>4.0</td>\n",
       "      <td>0.0</td>\n",
       "      <td>0.0</td>\n",
       "      <td>5.0</td>\n",
       "      <td>7.0</td>\n",
       "      <td>2.0</td>\n",
       "      <td>4.0</td>\n",
       "      <td>0.0</td>\n",
       "      <td>...</td>\n",
       "      <td>0.0</td>\n",
       "      <td>0.0</td>\n",
       "      <td>0.0</td>\n",
       "      <td>0.0</td>\n",
       "      <td>0.0</td>\n",
       "      <td>0.0</td>\n",
       "      <td>0.0</td>\n",
       "      <td>0.0</td>\n",
       "      <td>0.0</td>\n",
       "      <td>0.0</td>\n",
       "    </tr>\n",
       "    <tr>\n",
       "      <th>4</th>\n",
       "      <td>TRAAAFD128F92F423A</td>\n",
       "      <td>6640025</td>\n",
       "      <td>16.0</td>\n",
       "      <td>4.0</td>\n",
       "      <td>0.0</td>\n",
       "      <td>1.0</td>\n",
       "      <td>3.0</td>\n",
       "      <td>5.0</td>\n",
       "      <td>5.0</td>\n",
       "      <td>3.0</td>\n",
       "      <td>...</td>\n",
       "      <td>0.0</td>\n",
       "      <td>0.0</td>\n",
       "      <td>0.0</td>\n",
       "      <td>0.0</td>\n",
       "      <td>0.0</td>\n",
       "      <td>0.0</td>\n",
       "      <td>0.0</td>\n",
       "      <td>0.0</td>\n",
       "      <td>0.0</td>\n",
       "      <td>0.0</td>\n",
       "    </tr>\n",
       "  </tbody>\n",
       "</table>\n",
       "<p>5 rows × 5002 columns</p>\n",
       "</div>"
      ],
      "text/plain": [
       "               msd_id   mxm_id     i   the   you    to   and     a   me   it  \\\n",
       "0  TRAAABD128F429CF47  6477168  10.0   0.0  17.0   8.0   2.0   2.0  1.0  3.0   \n",
       "1  TRAAAED128E0783FAB  2516445  28.0  15.0   2.0  12.0  22.0   2.0  2.0  4.0   \n",
       "2  TRAAAEF128F4273421  3759847   5.0   4.0   3.0   2.0   1.0  11.0  0.0  0.0   \n",
       "3  TRAAAEW128F42930C0  3783760   4.0   0.0   0.0   5.0   7.0   2.0  4.0  0.0   \n",
       "4  TRAAAFD128F92F423A  6640025  16.0   4.0   0.0   1.0   3.0   5.0  5.0  3.0   \n",
       "\n",
       "   ...  writer  motivo  bake  insist  wel  santo   pe  gee  colleg  kad\\n  \n",
       "0  ...     0.0     0.0   0.0     0.0  0.0    0.0  0.0  0.0     0.0    0.0  \n",
       "1  ...     0.0     0.0   0.0     0.0  0.0    0.0  0.0  0.0     0.0    0.0  \n",
       "2  ...     0.0     0.0   0.0     0.0  0.0    0.0  0.0  0.0     0.0    0.0  \n",
       "3  ...     0.0     0.0   0.0     0.0  0.0    0.0  0.0  0.0     0.0    0.0  \n",
       "4  ...     0.0     0.0   0.0     0.0  0.0    0.0  0.0  0.0     0.0    0.0  \n",
       "\n",
       "[5 rows x 5002 columns]"
      ]
     },
     "execution_count": 63,
     "metadata": {},
     "output_type": "execute_result"
    }
   ],
   "source": [
    "tracks_df = pd.DataFrame(list_dicts)\n",
    "tracks_df.head()"
   ]
  },
  {
   "cell_type": "code",
   "execution_count": 64,
   "metadata": {},
   "outputs": [
    {
     "data": {
      "text/plain": [
       "(10000, 5002)"
      ]
     },
     "execution_count": 64,
     "metadata": {},
     "output_type": "execute_result"
    }
   ],
   "source": [
    "tracks_df.shape"
   ]
  },
  {
   "cell_type": "code",
   "execution_count": 65,
   "metadata": {},
   "outputs": [],
   "source": [
    "# Check the header is correct, includes ID and Key Words \n",
    "#print(header_cols)"
   ]
  },
  {
   "cell_type": "markdown",
   "metadata": {},
   "source": [
    "#### Create dataframe in Chunks, Repeatable  "
   ]
  },
  {
   "cell_type": "code",
   "execution_count": 66,
   "metadata": {},
   "outputs": [],
   "source": [
    "def create_chunked_df(start_ind, end_ind):\n",
    "    \n",
    "    # Create Song Dictionaries \n",
    "\n",
    "    start = time.time()\n",
    "\n",
    "    file1 = open('mxm_dataset_train.txt', 'r')\n",
    "    Lines = file1.readlines()\n",
    "\n",
    "    it = 0\n",
    "    list_song_dicts = []\n",
    "\n",
    "    # Use this as dataframe start\n",
    "    header_cols = ['msd_id', 'mxm_id']\n",
    "    header_cols.extend(word_list)\n",
    "\n",
    "    song_df = pd.DataFrame(columns = header_cols)\n",
    "\n",
    "    list_dicts = []\n",
    "\n",
    "    # Update starting points due to first 18 lines in dataset not being track data \n",
    "    start_ind += 18 \n",
    "    end_ind += 18 \n",
    "    # Special Case to run entire dataset \n",
    "    if end_ind == -1:\n",
    "        end_ind = len(Lines)\n",
    "        \n",
    "    for i in range(start_ind, end_ind): \n",
    "        line = Lines[i]\n",
    "\n",
    "        line_strip = line.strip(\"\\n\").strip(\"\\'\").split(\",\")\n",
    "        MSD_ID = line_strip[0]\n",
    "        MXM_ID = line_strip[1]\n",
    "\n",
    "        inds_count_list =  line_strip[2:]\n",
    "\n",
    "        # Tuple Pair Created where First Value is Word, Second Value is Word count \n",
    "        word_count_list = [ (word_list[int(x.split(\":\")[0])-1], x.split(\":\")[1]) for x in inds_count_list]\n",
    "        #print(word_count_list)\n",
    "\n",
    "        # Tuple Pair Created where First Value is Index in word_list, Second Val is Word Count \n",
    "        int_count_list = [ (int(x.split(\":\")[0])-1, int(x.split(\":\")[1])) for x in inds_count_list]\n",
    "        #print(int_count_list)\n",
    "\n",
    "        np_counts =  np.zeros(len(word_list))\n",
    "\n",
    "        # Iterate over the count list for this given Track \n",
    "        for i in range(0, len(int_count_list)):\n",
    "            ind, w_count = int_count_list[i]\n",
    "            np_counts[ind] = w_count # At the appropriate index, add word count \n",
    "\n",
    "\n",
    "        # Turn Numpy array to List\n",
    "        list_counts = list(np_counts)\n",
    "        #print(list_counts)\n",
    "\n",
    "        # Extend Row for Track data \n",
    "        row_vals = [MSD_ID, MXM_ID]\n",
    "        row_vals.extend(list_counts)\n",
    "        #print(row_vals)\n",
    "\n",
    "        # Create a Dictionary, Header Cols and Row Values \n",
    "        list_dicts.append(dict(zip(header_cols, row_vals)))\n",
    "\n",
    "\n",
    "    end = time.time()\n",
    "    print(\"Time:\", end - start)    \n",
    "    return list_dicts \n"
   ]
  },
  {
   "cell_type": "markdown",
   "metadata": {},
   "source": [
    "#### Pull 10,000 Tracks all at Once: "
   ]
  },
  {
   "cell_type": "code",
   "execution_count": 67,
   "metadata": {},
   "outputs": [
    {
     "name": "stdout",
     "output_type": "stream",
     "text": [
      "Time: 7.388845205307007\n",
      "(10000, 5002)\n"
     ]
    }
   ],
   "source": [
    "list_of_dicts =  create_chunked_df(0, 10000)\n",
    "tracks_df = pd.DataFrame(list_of_dicts)\n",
    "print(tracks_df.shape)\n"
   ]
  },
  {
   "cell_type": "markdown",
   "metadata": {},
   "source": [
    "#### Pull 10,000 tracks in chunks - Modify for bigger selection "
   ]
  },
  {
   "cell_type": "code",
   "execution_count": 68,
   "metadata": {
    "scrolled": true
   },
   "outputs": [
    {
     "name": "stdout",
     "output_type": "stream",
     "text": [
      "Time: 1.3206238746643066\n",
      "Time: 1.4589331150054932\n",
      "Time: 1.5431759357452393\n",
      "Time: 1.5367259979248047\n",
      "Time: 1.4966411590576172\n",
      "(10000, 5002)\n"
     ]
    }
   ],
   "source": [
    "list_of_dicts = []\n",
    "\n",
    "start_ind_list = np.arange(0, 10000, 2000)\n",
    "end_ind_list = np.arange(2000, 12000, 2000)\n",
    "\n",
    "for i in range(0, len(start_ind_list)):\n",
    "    st = start_ind_list[i]\n",
    "    end = end_ind_list[i]\n",
    "    temp_list = create_chunked_df(start_ind_list[i], end_ind_list[i])\n",
    "    list_of_dicts.extend(temp_list)\n",
    "\n",
    "tracks_df = pd.DataFrame(list_of_dicts)\n",
    "print(tracks_df.shape)\n"
   ]
  },
  {
   "cell_type": "markdown",
   "metadata": {},
   "source": [
    "#### Run K-Means Clustering - this is an Unsupervised Learning Problem"
   ]
  },
  {
   "cell_type": "markdown",
   "metadata": {},
   "source": [
    "1) Decide on Optimal Number of Clusters"
   ]
  },
  {
   "cell_type": "markdown",
   "metadata": {},
   "source": [
    "https://github.com/amandahutter/CS_7641/blob/master/A3:%20Unsupervised%20Learning/A3.ipynb"
   ]
  },
  {
   "cell_type": "code",
   "execution_count": 69,
   "metadata": {},
   "outputs": [],
   "source": [
    "\n",
    "import matplotlib.cm as cm\n",
    "from sklearn.cluster import KMeans \n",
    "\n",
    "def run_kmeans(X_Data, range_num_clusters, title):\n",
    "      \n",
    "    n_clusters_list = []\n",
    "    inertia_list = []\n",
    "    avg_silhouette_list = []\n",
    "    \n",
    "    for n_clusters in range_num_clusters:\n",
    "        kmeans_clusterer =  KMeans(n_clusters = n_clusters, init = 'k-means++', n_init = 10, random_state = 42)\n",
    "        kmeans_cluster_labels = kmeans_clusterer.fit_predict(X_Data)\n",
    "        kmeans_silhouette_avg = silhouette_score(X_Data, kmeans_cluster_labels)\n",
    "\n",
    "        \n",
    "        n_clusters_list.append(n_clusters)\n",
    "        inertia_list.append(kmeans_clusterer.inertia_)\n",
    "        avg_silhouette_list.append(kmeans_silhouette_avg)\n",
    "        \n",
    "    plt.clf()\n",
    "    fig, ax1 = plt.subplots()\n",
    "    ax1.plot(n_clusters_list, inertia_list, 'blue', label = 'Inertia')\n",
    "    ax1.set_xlabel('Number of Clusters')\n",
    "    ax1.plot([], [], 'green', label = 'Silhouette Score')\n",
    "    ax1.legend()\n",
    "    ax1.set_ylabel('Inertia')\n",
    "    plt.grid(False)\n",
    "\n",
    "    ax2 = ax1.twinx()\n",
    "    ax2.plot(n_clusters_list, avg_silhouette_list, 'green', label = 'Silhouette Score')\n",
    "    ax2.set_ylabel('Avg. Silhouette Score')\n",
    "    plt.grid(False)\n",
    "\n",
    "    plt.title(\"The Effect of Number of Clusters \\non Inertia and Avg. Silhouette Score  \\n for \" + title + \" with K-Means\")\n",
    "    \n",
    "    fig.tight_layout()\n",
    "    plt.show()"
   ]
  },
  {
   "cell_type": "code",
   "execution_count": 70,
   "metadata": {},
   "outputs": [],
   "source": [
    "X_Data = tracks_df[word_list]"
   ]
  },
  {
   "cell_type": "code",
   "execution_count": 71,
   "metadata": {},
   "outputs": [
    {
     "data": {
      "text/plain": [
       "<Figure size 432x288 with 0 Axes>"
      ]
     },
     "metadata": {},
     "output_type": "display_data"
    },
    {
     "data": {
      "image/png": "[encoded data removed]",
      "text/plain": [
       "<Figure size 432x288 with 2 Axes>"
      ]
     },
     "metadata": {
      "needs_background": "light"
     },
     "output_type": "display_data"
    }
   ],
   "source": [
    "run_kmeans(X_Data, np.arange(2, 11, 1), \"MusiXMatch Songs\")"
   ]
  },
  {
   "cell_type": "markdown",
   "metadata": {},
   "source": [
    "- Silhouette score stops decreasing as quickly after 3 clusters"
   ]
  },
  {
   "cell_type": "code",
   "execution_count": null,
   "metadata": {},
   "outputs": [],
   "source": []
  }
 ],
 "metadata": {
  "kernelspec": {
   "display_name": "Python 3",
   "language": "python",
   "name": "python3"
  },
  "language_info": {
   "codemirror_mode": {
    "name": "ipython",
    "version": 3
   },
   "file_extension": ".py",
   "mimetype": "text/x-python",
   "name": "python",
   "nbconvert_exporter": "python",
   "pygments_lexer": "ipython3",
   "version": "3.7.9"
  }
 },
 "nbformat": 4,
 "nbformat_minor": 4
}
