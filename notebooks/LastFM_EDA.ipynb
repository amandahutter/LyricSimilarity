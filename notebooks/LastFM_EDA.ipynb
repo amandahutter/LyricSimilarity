{
 "cells": [
  {
   "cell_type": "code",
   "execution_count": 93,
   "metadata": {},
   "outputs": [],
   "source": [
    "import pandas as pd\n",
    "import os\n",
    "import glob \n",
    "import rglob\n",
    "import simplejson # Need to add this to environment.yaml package "
   ]
  },
  {
   "cell_type": "markdown",
   "metadata": {},
   "source": [
    "### This notebook creates similarity_df.csv, which is a list of two tracks and their similarities, when those track pairs are listed in the LastFM data "
   ]
  },
  {
   "cell_type": "code",
   "execution_count": 94,
   "metadata": {},
   "outputs": [],
   "source": [
    "root = '/Users/amandahutter/Documents/CS_7643/Project/LastFM'"
   ]
  },
  {
   "cell_type": "code",
   "execution_count": 95,
   "metadata": {},
   "outputs": [
    {
     "data": {
      "text/plain": [
       "['.DS_Store',\n",
       " 'lastfm_train',\n",
       " 'lastfm_test',\n",
       " 'LastFM_EDA.ipynb',\n",
       " '.ipynb_checkpoints',\n",
       " 'lastfm_subset']"
      ]
     },
     "execution_count": 95,
     "metadata": {},
     "output_type": "execute_result"
    }
   ],
   "source": [
    "#root = os.getcwd()\n",
    "os.chdir(root)\n",
    "os.listdir(root)"
   ]
  },
  {
   "cell_type": "code",
   "execution_count": null,
   "metadata": {},
   "outputs": [],
   "source": [
    "for root, dirs, files in os.walk(\".\", topdown = False):\n",
    "    for name in files:\n",
    "        print(os.path.join(root, name))\n",
    "    for name in dirs:\n",
    "        print(os.path.join(root, name))"
   ]
  },
  {
   "cell_type": "code",
   "execution_count": 97,
   "metadata": {},
   "outputs": [],
   "source": [
    "folder1 = 'lastfm_train'\n",
    "similarity_list = []\n",
    "\n",
    "files1 = [f for f in os.listdir(folder1) if not f.startswith('.')]\n",
    "for i in range(0, len(files1)):\n",
    "#for i in range(0, 2):\n",
    "    folder2 = files1[i]\n",
    "    files2 = [f for f in os.listdir(os.path.join(folder1,folder2)) if not f.startswith('.')]\n",
    "\n",
    "    for j in range(0, len(files2)):\n",
    "        folder3 = files2[j]\n",
    "        files3 = [f for f in os.listdir(os.path.join(os.path.join(folder1, folder2),folder3)) if not f.startswith('.')]\n",
    "        for k in range(0, len(files3)):\n",
    "            folder4 =  files3[k]\n",
    "            files4 = [f for f in os.listdir(os.path.join(os.path.join(os.path.join(folder1, folder2),folder3, folder4))) if not f.startswith('.')]\n",
    "            for l in range(0, len(files4)):\n",
    "                file = files4[l]\n",
    "                # add code here ---------\n",
    "                json_file_path = folder1 + \"/\" + folder2 + \"/\" + folder3 + \"/\" + folder4 + \"/\" + file\n",
    "                with open(json_file_path, 'r') as j:\n",
    "                    contents = simplejson.loads(j.read())  \n",
    "                    track = contents['track_id']\n",
    "                    sim_list = contents['similars']\n",
    "                    # List comprehension - add Track as first entry to each list in list of lists\n",
    "                    #final = [[track] + pair for pair in sim_list]\n",
    "                    final = [[track] + pair for pair in sim_list if pair[1] > 0.30]\n",
    "                    similarity_list.extend(final) # Adds this list of lists onto the other list of lists \n",
    "\n",
    "similarity_df = pd.DataFrame(similarity_list, columns = ['Track1', 'Track2', 'Similarity'])\n"
   ]
  },
  {
   "cell_type": "code",
   "execution_count": 98,
   "metadata": {},
   "outputs": [
    {
     "data": {
      "text/plain": [
       "3985913"
      ]
     },
     "execution_count": 98,
     "metadata": {},
     "output_type": "execute_result"
    }
   ],
   "source": [
    "len(similarity_list)"
   ]
  },
  {
   "cell_type": "code",
   "execution_count": 99,
   "metadata": {},
   "outputs": [
    {
     "data": {
      "text/plain": [
       "(3985913, 3)"
      ]
     },
     "execution_count": 99,
     "metadata": {},
     "output_type": "execute_result"
    }
   ],
   "source": [
    "similarity_df.shape"
   ]
  },
  {
   "cell_type": "code",
   "execution_count": 100,
   "metadata": {},
   "outputs": [
    {
     "data": {
      "text/plain": [
       "[['TRRRRCH128F9342C72', 'TRMLOXQ12903CF06BB', 1],\n",
       " ['TRRRRCH128F9342C72', 'TRCOWHF128F932163D', 1],\n",
       " ['TRRRRCH128F9342C72', 'TRRWESB128F92E08E4', 1],\n",
       " ['TRRRRCH128F9342C72', 'TRNJNJS128E0793567', 1],\n",
       " ['TRRRRCH128F9342C72', 'TRHJVGH12903CB1529', 0.950061],\n",
       " ['TRRRRCH128F9342C72', 'TRZWBGK12903CB0D50', 0.950061],\n",
       " ['TRRRRCH128F9342C72', 'TRNRWQE128F92F8FCB', 0.950061],\n",
       " ['TRRRRCH128F9342C72', 'TRTVUCM128F42ACE7E', 0.950061],\n",
       " ['TRRRRCH128F9342C72', 'TRLDVHT128F4261F88', 0.950061],\n",
       " ['TRRRRCH128F9342C72', 'TRUTURG128F92C3BF5', 0.529115]]"
      ]
     },
     "execution_count": 100,
     "metadata": {},
     "output_type": "execute_result"
    }
   ],
   "source": [
    "similarity_list[:10]"
   ]
  },
  {
   "cell_type": "code",
   "execution_count": 101,
   "metadata": {
    "scrolled": true
   },
   "outputs": [
    {
     "data": {
      "text/html": [
       "<div>\n",
       "<style scoped>\n",
       "    .dataframe tbody tr th:only-of-type {\n",
       "        vertical-align: middle;\n",
       "    }\n",
       "\n",
       "    .dataframe tbody tr th {\n",
       "        vertical-align: top;\n",
       "    }\n",
       "\n",
       "    .dataframe thead th {\n",
       "        text-align: right;\n",
       "    }\n",
       "</style>\n",
       "<table border=\"1\" class=\"dataframe\">\n",
       "  <thead>\n",
       "    <tr style=\"text-align: right;\">\n",
       "      <th></th>\n",
       "      <th>Track1</th>\n",
       "      <th>Track2</th>\n",
       "      <th>Similarity</th>\n",
       "    </tr>\n",
       "  </thead>\n",
       "  <tbody>\n",
       "    <tr>\n",
       "      <th>0</th>\n",
       "      <td>TRRRRCH128F9342C72</td>\n",
       "      <td>TRMLOXQ12903CF06BB</td>\n",
       "      <td>1.000000</td>\n",
       "    </tr>\n",
       "    <tr>\n",
       "      <th>1</th>\n",
       "      <td>TRRRRCH128F9342C72</td>\n",
       "      <td>TRCOWHF128F932163D</td>\n",
       "      <td>1.000000</td>\n",
       "    </tr>\n",
       "    <tr>\n",
       "      <th>2</th>\n",
       "      <td>TRRRRCH128F9342C72</td>\n",
       "      <td>TRRWESB128F92E08E4</td>\n",
       "      <td>1.000000</td>\n",
       "    </tr>\n",
       "    <tr>\n",
       "      <th>3</th>\n",
       "      <td>TRRRRCH128F9342C72</td>\n",
       "      <td>TRNJNJS128E0793567</td>\n",
       "      <td>1.000000</td>\n",
       "    </tr>\n",
       "    <tr>\n",
       "      <th>4</th>\n",
       "      <td>TRRRRCH128F9342C72</td>\n",
       "      <td>TRHJVGH12903CB1529</td>\n",
       "      <td>0.950061</td>\n",
       "    </tr>\n",
       "    <tr>\n",
       "      <th>5</th>\n",
       "      <td>TRRRRCH128F9342C72</td>\n",
       "      <td>TRZWBGK12903CB0D50</td>\n",
       "      <td>0.950061</td>\n",
       "    </tr>\n",
       "    <tr>\n",
       "      <th>6</th>\n",
       "      <td>TRRRRCH128F9342C72</td>\n",
       "      <td>TRNRWQE128F92F8FCB</td>\n",
       "      <td>0.950061</td>\n",
       "    </tr>\n",
       "    <tr>\n",
       "      <th>7</th>\n",
       "      <td>TRRRRCH128F9342C72</td>\n",
       "      <td>TRTVUCM128F42ACE7E</td>\n",
       "      <td>0.950061</td>\n",
       "    </tr>\n",
       "    <tr>\n",
       "      <th>8</th>\n",
       "      <td>TRRRRCH128F9342C72</td>\n",
       "      <td>TRLDVHT128F4261F88</td>\n",
       "      <td>0.950061</td>\n",
       "    </tr>\n",
       "    <tr>\n",
       "      <th>9</th>\n",
       "      <td>TRRRRCH128F9342C72</td>\n",
       "      <td>TRUTURG128F92C3BF5</td>\n",
       "      <td>0.529115</td>\n",
       "    </tr>\n",
       "  </tbody>\n",
       "</table>\n",
       "</div>"
      ],
      "text/plain": [
       "               Track1              Track2  Similarity\n",
       "0  TRRRRCH128F9342C72  TRMLOXQ12903CF06BB    1.000000\n",
       "1  TRRRRCH128F9342C72  TRCOWHF128F932163D    1.000000\n",
       "2  TRRRRCH128F9342C72  TRRWESB128F92E08E4    1.000000\n",
       "3  TRRRRCH128F9342C72  TRNJNJS128E0793567    1.000000\n",
       "4  TRRRRCH128F9342C72  TRHJVGH12903CB1529    0.950061\n",
       "5  TRRRRCH128F9342C72  TRZWBGK12903CB0D50    0.950061\n",
       "6  TRRRRCH128F9342C72  TRNRWQE128F92F8FCB    0.950061\n",
       "7  TRRRRCH128F9342C72  TRTVUCM128F42ACE7E    0.950061\n",
       "8  TRRRRCH128F9342C72  TRLDVHT128F4261F88    0.950061\n",
       "9  TRRRRCH128F9342C72  TRUTURG128F92C3BF5    0.529115"
      ]
     },
     "execution_count": 101,
     "metadata": {},
     "output_type": "execute_result"
    }
   ],
   "source": [
    "similarity_df.iloc[:10]"
   ]
  },
  {
   "cell_type": "code",
   "execution_count": 103,
   "metadata": {},
   "outputs": [],
   "source": [
    "similarity_df.to_csv(\"Similarity_df.csv\",index = False)"
   ]
  },
  {
   "cell_type": "code",
   "execution_count": 102,
   "metadata": {},
   "outputs": [
    {
     "data": {
      "text/plain": [
       "'/Users/amandahutter/Documents/CS_7643/Project/LastFM'"
      ]
     },
     "execution_count": 102,
     "metadata": {},
     "output_type": "execute_result"
    }
   ],
   "source": [
    "os.getcwd()"
   ]
  },
  {
   "cell_type": "code",
   "execution_count": null,
   "metadata": {},
   "outputs": [],
   "source": [
    "os.listdir('lastfm_train/A/A/A')"
   ]
  },
  {
   "cell_type": "code",
   "execution_count": null,
   "metadata": {},
   "outputs": [],
   "source": []
  },
  {
   "cell_type": "code",
   "execution_count": 77,
   "metadata": {},
   "outputs": [
    {
     "name": "stdout",
     "output_type": "stream",
     "text": [
      "56\n",
      "2\n",
      "[['TRAAAVL128F93028BC', 'TRDZTIB128F93028B1', 1], ['TRAAAVL128F93028BC', 'TREAFWH12903CB7B31', 0.0591892], ['TRAAAVL128F93028BC', 'TRAMIZB12903CA6A97', 0.0505261], ['TRAAAVL128F93028BC', 'TREONTQ12903CA6A85', 0.0494056], ['TRAAAVL128F93028BC', 'TRGQMJL12903CB7B34', 0.0488759], ['TRAAAVL128F93028BC', 'TRGKIFR128F149D949', 0.0441182], ['TRAAAVL128F93028BC', 'TRTHLPS128F9309AE8', 0.0385723], ['TRAAAVL128F93028BC', 'TRPQNYN128F9326A52', 0.0278225], ['TRAAAVL128F93028BC', 'TRSVQBI128EF35C74F', 0.0251337], ['TRAAAVL128F93028BC', 'TRVPMJG12903CACE3E', 0.00131678], ['TRAAAVL128F93028BC', 'TRTWWEY12903CACE3A', 0.00131678], ['TRAAAVL128F93028BC', 'TRPDKVW12903CBC484', 0.00122903], ['TRAAAVL128F93028BC', 'TRSBCML12903CBC487', 0.00122903], ['TRAAAVL128F93028BC', 'TRNLCHM128F9316B77', 0.00122071], ['TRAAAVL128F93028BC', 'TRLLBNX128F92DE701', 0.00118911], ['TRAAAVL128F93028BC', 'TRSMBQR12903CA9B14', 0.00118819], ['TRAAAVL128F93028BC', 'TRMJHTV12903CDE2A5', 0.00118108], ['TRAAAVL128F93028BC', 'TRASXMF128F92FFA72', 0.00117984], ['TRAAAVL128F93028BC', 'TRCWMJP12903CAB227', 0.00116523], ['TRAAAVL128F93028BC', 'TRXYNBB12903CB04FE', 0.00115252], ['TRAAAVL128F93028BC', 'TRTERAI128F9325CC6', 0.00115194], ['TRAAAVL128F93028BC', 'TRTJJWP128F427B2BA', 0.001123], ['TRAAAVL128F93028BC', 'TRNRINU128F424CD80', 0.00111622], ['TRAAAVL128F93028BC', 'TROKFDB128F424CD79', 0.00111622], ['TRAAAVL128F93028BC', 'TRFFHQS128EF35C784', 0.00110983], ['TRAAAVL128F93028BC', 'TRATRMF12903CE925A', 0.0010965], ['TRAAAEM128F93347B9', 'TRCYBRM128F9334798', 1], ['TRAAAEM128F93347B9', 'TRVCOCT128F933478A', 0.928944], ['TRAAAEM128F93347B9', 'TRMCFDP12903CEDFE2', 0.0914598], ['TRAAAEM128F93347B9', 'TRTNVRK12903CEDFD8', 0.0914598], ['TRAAAEM128F93347B9', 'TRGMRYR12903CCCFB8', 0.0821662], ['TRAAAEM128F93347B9', 'TRNBYSI128F9330A15', 0.0810931], ['TRAAAEM128F93347B9', 'TRTURCF128F9345BE2', 0.0755252], ['TRAAAEM128F93347B9', 'TRLYZJB12903CD7538', 0.0728155], ['TRAAAEM128F93347B9', 'TRDHVNI128F9317233', 0.068518], ['TRAAAEM128F93347B9', 'TRPCEFV12903CB644A', 0.0661894], ['TRAAAEM128F93347B9', 'TRGALSJ12903CD1B2C', 0.0602102], ['TRAAAEM128F93347B9', 'TRTKTCO12903CE0137', 0.0586471], ['TRAAAEM128F93347B9', 'TRBJXMT128F935571D', 0.0578364], ['TRAAAEM128F93347B9', 'TRHTXQW128F931722D', 0.057698], ['TRAAAEM128F93347B9', 'TRXDDOR12903CD752D', 0.05383], ['TRAAAEM128F93347B9', 'TRXLRNE12903CD42F4', 0.0501759], ['TRAAAEM128F93347B9', 'TRIQAMD12903CE0121', 0.0483335], ['TRAAAEM128F93347B9', 'TRRZCME12903CDFC93', 0.048023], ['TRAAAEM128F93347B9', 'TRABRHL128F4274DB0', 0.0453887], ['TRAAAEM128F93347B9', 'TRCRKYP12903CB4612', 0.0442952], ['TRAAAEM128F93347B9', 'TRRXMEY12903CD4353', 0.0424081], ['TRAAAEM128F93347B9', 'TRRIBZS128F92FBD75', 0.0420743], ['TRAAAEM128F93347B9', 'TRIFYBE12903CB471C', 0.0404212], ['TRAAAEM128F93347B9', 'TRAVSXL12903CC4E09', 0.0404212], ['TRAAAEM128F93347B9', 'TREEAQW12903CC5228', 0.0404212], ['TRAAAEM128F93347B9', 'TRMSFKB128F92FA260', 0.0393405], ['TRAAAEM128F93347B9', 'TRNCIZF128F92FE43E', 0.0393405], ['TRAAAEM128F93347B9', 'TRSCVFN12903CD4350', 0.0393405], ['TRAAAEM128F93347B9', 'TRNSUMJ12903CB460F', 0.0389812], ['TRAAAEM128F93347B9', 'TRGLHLE128F9350CC7', 0.0388936], ['TRAAAEM128F93347B9', 'TRSNZEI128F92FE447', 0.0379405], ['TRAAAEM128F93347B9', 'TRCMBVO12903D000BF', 0.0375059], ['TRAAAEM128F93347B9', 'TRCLMBE12903CC5226', 0.0370067], ['TRAAAEM128F93347B9', 'TRJMYRX12903CBF4CD', 0.035346], ['TRAAAEM128F93347B9', 'TRHIIOU12903CC4F8A', 0.0340602], ['TRAAAEM128F93347B9', 'TRCLCQS12903CB461C', 0.0323391], ['TRAAAEM128F93347B9', 'TRTGYWX128F9326E95', 0.0322083], ['TRAAAEM128F93347B9', 'TRVYYTC128F931FAAE', 0.0314938], ['TRAAAEM128F93347B9', 'TRUINLM12903CB46EF', 0.030196], ['TRAAAEM128F93347B9', 'TRPZRUS12903CB43E6', 0.0282219], ['TRAAAEM128F93347B9', 'TRWKYYE128F92FA254', 0.0272987], ['TRAAAEM128F93347B9', 'TRPTNME128F9300122', 0.026099], ['TRAAAEM128F93347B9', 'TRRPIHS12903CAF8F9', 0.0255193], ['TRAAAEM128F93347B9', 'TRWMZHB12903CD4389', 0.0251526], ['TRAAAEM128F93347B9', 'TRCFCOY12903CB4388', 0.025051], ['TRAAAEM128F93347B9', 'TROCJGR12903CC50AD', 0.025051], ['TRAAAEM128F93347B9', 'TRNYELN128F9300920', 0.0241765], ['TRAAAEM128F93347B9', 'TRMMDTR128F92FB36A', 0.0229982], ['TRAAAEM128F93347B9', 'TRNWRYX128F9317D28', 0.0229982], ['TRAAAEM128F93347B9', 'TRDCXWU128F92FB385', 0.022906], ['TRAAAEM128F93347B9', 'TRPVCFI12903CB045A', 0.02282], ['TRAAAEM128F93347B9', 'TRVYVVM12903CB446A', 0.0222523], ['TRAAAEM128F93347B9', 'TRXWOYE12903CB479B', 0.0222523], ['TRAAAEM128F93347B9', 'TRVKKPR128F931E226', 0.0191413], ['TRAAAEM128F93347B9', 'TRWRFWG12903CD2DEB', 0.0190357], ['TRAAAEM128F93347B9', 'TRGSNPS128F92F9535', 0.0182114]]\n"
     ]
    }
   ],
   "source": [
    "# Read one file \n",
    "fpath = 'lastfm_train/A/A/A/'\n",
    "file = 'TRAAAVL128F93028BC.json'\n",
    "\n",
    "json_file_path = fpath + \"/\" + file \n",
    "\n",
    "with open(json_file_path, 'r') as j:\n",
    "    contents = simplejson.loads(j.read())    \n",
    "    track = contents['track_id']\n",
    "    sim_list = contents['similars']\n",
    "    \n",
    "    # https://stackoverflow.com/questions/41970843/can-i-extend-within-a-list-of-lists-in-python \n",
    "    # List comprehension - add Track as first entry to each list in list of lists\n",
    "    final = [[track] + pair for pair in sim_list]\n",
    "    #print(final)\n",
    "    #print()\n",
    "    \n",
    "    \n",
    "file2 = 'TRAAAEM128F93347B9.json'\n",
    "json_file_path2 = fpath + \"/\" + file2 \n",
    "with open(json_file_path2, 'r') as j:\n",
    "    contents = simplejson.loads(j.read())  \n",
    "    track = contents['track_id']\n",
    "    sim_list = contents['similars']\n",
    "    \n",
    "    # List comprehension - add Track as first entry to each list in list of lists\n",
    "    final2 = [[track] + pair for pair in sim_list]\n",
    "    final3 = [[track] + pair for pair in sim_list if pair[1] > 0.30]\n",
    "    \n",
    "    \n",
    "    print(len(final2))\n",
    "    print(len(final3))\n",
    "    #print()\n",
    "    \n",
    "final.extend(final2)\n",
    "print(final)"
   ]
  },
  {
   "cell_type": "markdown",
   "metadata": {},
   "source": [
    "dictionary keys: \n",
    "- 'artist'\n",
    "- 'timestamp' \n",
    "- 'similars' \n",
    "- 'tags'\n",
    "- 'track_id' \n",
    "- 'title'"
   ]
  },
  {
   "cell_type": "code",
   "execution_count": null,
   "metadata": {},
   "outputs": [],
   "source": [
    "fpath = 'lastfm_train/A/A/A/'\n",
    "for i in range(0, len(fpath)):\n",
    "    file = os.listdir(fpath)[i]\n",
    "    json_file_path = os.path.join(fpath, file)\n",
    "    with open(json_file_path, 'r') as j:\n",
    "        contents = simplejson.loads(j.read())\n",
    "        print(contents)\n",
    "        print()"
   ]
  },
  {
   "cell_type": "markdown",
   "metadata": {},
   "source": [
    "- ideas: create a pair of songs that are 'similar'\n",
    "- decide: Decide how 'similar' a song must be to tag as Similar (Binary Y/N), Regression % ? \n",
    "- idea2: Add tags from songs to dataframe, see if we can predict tags based on lyrics\n",
    "- decide: How many tags should we include? Tag value has a # for how relevant tag is \n"
   ]
  },
  {
   "cell_type": "code",
   "execution_count": null,
   "metadata": {},
   "outputs": [],
   "source": []
  }
 ],
 "metadata": {
  "kernelspec": {
   "display_name": "Python 3",
   "language": "python",
   "name": "python3"
  },
  "language_info": {
   "codemirror_mode": {
    "name": "ipython",
    "version": 3
   },
   "file_extension": ".py",
   "mimetype": "text/x-python",
   "name": "python",
   "nbconvert_exporter": "python",
   "pygments_lexer": "ipython3",
   "version": "3.7.9"
  }
 },
 "nbformat": 4,
 "nbformat_minor": 4
}
