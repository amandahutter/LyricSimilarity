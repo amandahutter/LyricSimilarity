{
 "cells": [
  {
   "cell_type": "code",
   "execution_count": 47,
   "metadata": {},
   "outputs": [
    {
     "name": "stderr",
     "output_type": "stream",
     "text": [
      "[nltk_data] Downloading package stopwords to\n",
      "[nltk_data]     /Users/amandahutter/nltk_data...\n",
      "[nltk_data]   Package stopwords is already up-to-date!\n"
     ]
    },
    {
     "data": {
      "text/plain": [
       "True"
      ]
     },
     "execution_count": 47,
     "metadata": {},
     "output_type": "execute_result"
    }
   ],
   "source": [
    "import os\n",
    "import pandas as pd\n",
    "import numpy as np \n",
    "import matplotlib.pyplot as plt\n",
    "\n",
    "import re \n",
    "\n",
    "# Import NLTK to assist with removing the non important words \n",
    "import nltk \n",
    "\n",
    "from nltk.corpus import stopwords \n",
    "from nltk.stem.porter import PorterStemmer\n",
    "\n",
    "nltk.download('stopwords')"
   ]
  },
  {
   "cell_type": "code",
   "execution_count": 48,
   "metadata": {},
   "outputs": [
    {
     "data": {
      "text/plain": [
       "['Lyrics_Database_EDA.ipynb',\n",
       " 'Similarity_df.csv',\n",
       " '.DS_Store',\n",
       " 'EDA_MusixMatch.ipynb',\n",
       " 'mxm_dataset.db',\n",
       " 'mxm_dataset_train.txt',\n",
       " 'mxm_dataset_test.txt',\n",
       " 'LastFM_EDA.ipynb',\n",
       " 'mxm_779k_matches.txt',\n",
       " 'mxm_database.db',\n",
       " '.ipynb_checkpoints',\n",
       " 'mxm_lyrics.db',\n",
       " 'how_many_inputs.py']"
      ]
     },
     "execution_count": 48,
     "metadata": {},
     "output_type": "execute_result"
    }
   ],
   "source": [
    "os.listdir()"
   ]
  },
  {
   "cell_type": "code",
   "execution_count": 3,
   "metadata": {},
   "outputs": [],
   "source": [
    "def read_sqlite(dbfile):\n",
    "    import sqlite3\n",
    "    from pandas import read_sql_query, read_sql_table\n",
    "\n",
    "    with sqlite3.connect(dbfile) as dbcon:\n",
    "        tables = list(read_sql_query(\"SELECT name FROM sqlite_master WHERE type='table';\", dbcon)['name'])\n",
    "        print(\"Tables:\",tables)\n",
    "        out = {tbl : read_sql_query(f\"SELECT * from {tbl}\", dbcon) for tbl in tables}\n",
    "        \n",
    "    return(out)"
   ]
  },
  {
   "cell_type": "code",
   "execution_count": 4,
   "metadata": {},
   "outputs": [
    {
     "name": "stdout",
     "output_type": "stream",
     "text": [
      "Tables: ['download_history', 'lyrics']\n"
     ]
    }
   ],
   "source": [
    "tables =  read_sqlite('mxm_lyrics.db')\n",
    "#print(tables)"
   ]
  },
  {
   "cell_type": "code",
   "execution_count": 5,
   "metadata": {},
   "outputs": [
    {
     "name": "stdout",
     "output_type": "stream",
     "text": [
      "Tables: ['words', 'lyrics']\n"
     ]
    }
   ],
   "source": [
    "tables =  read_sqlite('mxm_dataset.db')\n",
    "#print(tables)"
   ]
  },
  {
   "cell_type": "code",
   "execution_count": 6,
   "metadata": {},
   "outputs": [],
   "source": [
    "### Kathryn says this one worked: \n",
    "import sqlite3\n",
    "import pandas as pd\n",
    "\n",
    "# Create your connection.\n",
    "cnx = sqlite3.connect('mxm_lyrics.db')\n",
    "lyrics_df = pd.read_sql_query(\"SELECT * FROM lyrics\", cnx)\n"
   ]
  },
  {
   "cell_type": "code",
   "execution_count": 7,
   "metadata": {},
   "outputs": [
    {
     "data": {
      "text/html": [
       "<div>\n",
       "<style scoped>\n",
       "    .dataframe tbody tr th:only-of-type {\n",
       "        vertical-align: middle;\n",
       "    }\n",
       "\n",
       "    .dataframe tbody tr th {\n",
       "        vertical-align: top;\n",
       "    }\n",
       "\n",
       "    .dataframe thead th {\n",
       "        text-align: right;\n",
       "    }\n",
       "</style>\n",
       "<table border=\"1\" class=\"dataframe\">\n",
       "  <thead>\n",
       "    <tr style=\"text-align: right;\">\n",
       "      <th></th>\n",
       "      <th>mxm_id</th>\n",
       "      <th>lyrics_id</th>\n",
       "      <th>lyrics</th>\n",
       "      <th>explicit</th>\n",
       "      <th>lyrics_language</th>\n",
       "      <th>lyrics_language_description</th>\n",
       "    </tr>\n",
       "  </thead>\n",
       "  <tbody>\n",
       "    <tr>\n",
       "      <th>0</th>\n",
       "      <td>555821</td>\n",
       "      <td>16701750</td>\n",
       "      <td>The big wheel keeps on turning\\nOn a simple li...</td>\n",
       "      <td>0</td>\n",
       "      <td>None</td>\n",
       "      <td>None</td>\n",
       "    </tr>\n",
       "    <tr>\n",
       "      <th>1</th>\n",
       "      <td>555832</td>\n",
       "      <td>6069922</td>\n",
       "      <td>I've been searchin' all over for someone\\nI ca...</td>\n",
       "      <td>0</td>\n",
       "      <td>None</td>\n",
       "      <td>None</td>\n",
       "    </tr>\n",
       "    <tr>\n",
       "      <th>2</th>\n",
       "      <td>555842</td>\n",
       "      <td>6092005</td>\n",
       "      <td>I've found a new baby\\nI've found a new girl\\n...</td>\n",
       "      <td>0</td>\n",
       "      <td>None</td>\n",
       "      <td>None</td>\n",
       "    </tr>\n",
       "    <tr>\n",
       "      <th>3</th>\n",
       "      <td>555901</td>\n",
       "      <td>1691427</td>\n",
       "      <td>I think I'll come over\\nI'll give you my numbe...</td>\n",
       "      <td>0</td>\n",
       "      <td>None</td>\n",
       "      <td>None</td>\n",
       "    </tr>\n",
       "    <tr>\n",
       "      <th>4</th>\n",
       "      <td>555918</td>\n",
       "      <td>10129918</td>\n",
       "      <td>She's worried she said too much\\nAnd talking i...</td>\n",
       "      <td>0</td>\n",
       "      <td>None</td>\n",
       "      <td>None</td>\n",
       "    </tr>\n",
       "  </tbody>\n",
       "</table>\n",
       "</div>"
      ],
      "text/plain": [
       "   mxm_id  lyrics_id                                             lyrics  \\\n",
       "0  555821   16701750  The big wheel keeps on turning\\nOn a simple li...   \n",
       "1  555832    6069922  I've been searchin' all over for someone\\nI ca...   \n",
       "2  555842    6092005  I've found a new baby\\nI've found a new girl\\n...   \n",
       "3  555901    1691427  I think I'll come over\\nI'll give you my numbe...   \n",
       "4  555918   10129918  She's worried she said too much\\nAnd talking i...   \n",
       "\n",
       "   explicit lyrics_language lyrics_language_description  \n",
       "0         0            None                        None  \n",
       "1         0            None                        None  \n",
       "2         0            None                        None  \n",
       "3         0            None                        None  \n",
       "4         0            None                        None  "
      ]
     },
     "execution_count": 7,
     "metadata": {},
     "output_type": "execute_result"
    }
   ],
   "source": [
    "lyrics_df.head()"
   ]
  },
  {
   "cell_type": "code",
   "execution_count": 8,
   "metadata": {},
   "outputs": [
    {
     "data": {
      "text/plain": [
       "(168884, 6)"
      ]
     },
     "execution_count": 8,
     "metadata": {},
     "output_type": "execute_result"
    }
   ],
   "source": [
    "lyrics_df.shape"
   ]
  },
  {
   "cell_type": "code",
   "execution_count": 9,
   "metadata": {},
   "outputs": [
    {
     "data": {
      "text/plain": [
       "168884"
      ]
     },
     "execution_count": 9,
     "metadata": {},
     "output_type": "execute_result"
    }
   ],
   "source": [
    "lyrics_df['mxm_id'].nunique()"
   ]
  },
  {
   "cell_type": "code",
   "execution_count": 10,
   "metadata": {},
   "outputs": [
    {
     "data": {
      "text/plain": [
       "167806"
      ]
     },
     "execution_count": 10,
     "metadata": {},
     "output_type": "execute_result"
    }
   ],
   "source": [
    "lyrics_df['lyrics_id'].nunique()"
   ]
  },
  {
   "cell_type": "code",
   "execution_count": 11,
   "metadata": {},
   "outputs": [
    {
     "data": {
      "text/plain": [
       "mxm_id                              0\n",
       "lyrics_id                           0\n",
       "lyrics                              0\n",
       "explicit                            0\n",
       "lyrics_language                168884\n",
       "lyrics_language_description    168884\n",
       "dtype: int64"
      ]
     },
     "execution_count": 11,
     "metadata": {},
     "output_type": "execute_result"
    }
   ],
   "source": [
    "lyrics_df.isna().sum()"
   ]
  },
  {
   "cell_type": "code",
   "execution_count": 12,
   "metadata": {},
   "outputs": [],
   "source": [
    "# Add Length of Lyrics to analyze\n",
    "lyrics_df['lyrics_length'] = lyrics_df['lyrics'].str.split(\" \").str.len()"
   ]
  },
  {
   "cell_type": "code",
   "execution_count": 13,
   "metadata": {},
   "outputs": [
    {
     "data": {
      "text/plain": [
       "Index(['mxm_id', 'lyrics_id', 'lyrics', 'explicit', 'lyrics_language',\n",
       "       'lyrics_language_description', 'lyrics_length'],\n",
       "      dtype='object')"
      ]
     },
     "execution_count": 13,
     "metadata": {},
     "output_type": "execute_result"
    }
   ],
   "source": [
    "lyrics_df.columns"
   ]
  },
  {
   "cell_type": "code",
   "execution_count": 14,
   "metadata": {},
   "outputs": [
    {
     "data": {
      "image/png": "[encoded data removed]",
      "text/plain": [
       "<Figure size 432x288 with 1 Axes>"
      ]
     },
     "metadata": {
      "needs_background": "light"
     },
     "output_type": "display_data"
    }
   ],
   "source": [
    "fig = plt.figure()\n",
    "ax = fig.add_subplot(1, 1, 1)\n",
    "\n",
    "ax.hist(lyrics_df['lyrics_length'], bins = 100)\n",
    "plt.ylabel(\"Count of Songs with this many lyrics\")\n",
    "plt.xlabel(\"Lyrics Length\")\n",
    "ax.set_xscale('log')\n",
    "plt.title(\"Histogram of length of Lyrics\")\n",
    "plt.show()"
   ]
  },
  {
   "cell_type": "code",
   "execution_count": 15,
   "metadata": {},
   "outputs": [
    {
     "data": {
      "text/plain": [
       "count    168884.000000\n",
       "mean         61.234540\n",
       "std          39.270156\n",
       "min           1.000000\n",
       "25%          37.000000\n",
       "50%          55.000000\n",
       "75%          77.000000\n",
       "max        1415.000000\n",
       "Name: lyrics_length, dtype: float64"
      ]
     },
     "execution_count": 15,
     "metadata": {},
     "output_type": "execute_result"
    }
   ],
   "source": [
    "lyrics_df['lyrics_length'].describe()"
   ]
  },
  {
   "cell_type": "code",
   "execution_count": 16,
   "metadata": {},
   "outputs": [
    {
     "data": {
      "text/html": [
       "<div>\n",
       "<style scoped>\n",
       "    .dataframe tbody tr th:only-of-type {\n",
       "        vertical-align: middle;\n",
       "    }\n",
       "\n",
       "    .dataframe tbody tr th {\n",
       "        vertical-align: top;\n",
       "    }\n",
       "\n",
       "    .dataframe thead th {\n",
       "        text-align: right;\n",
       "    }\n",
       "</style>\n",
       "<table border=\"1\" class=\"dataframe\">\n",
       "  <thead>\n",
       "    <tr style=\"text-align: right;\">\n",
       "      <th></th>\n",
       "      <th>mxm_id</th>\n",
       "      <th>lyrics_id</th>\n",
       "      <th>lyrics</th>\n",
       "      <th>explicit</th>\n",
       "      <th>lyrics_language</th>\n",
       "      <th>lyrics_language_description</th>\n",
       "      <th>lyrics_length</th>\n",
       "    </tr>\n",
       "  </thead>\n",
       "  <tbody>\n",
       "    <tr>\n",
       "      <th>66787</th>\n",
       "      <td>2467236</td>\n",
       "      <td>1255765</td>\n",
       "      <td>(Big Moe)\\nYeee-yeee haahee yeehaa, yeee-yaahe...</td>\n",
       "      <td>1</td>\n",
       "      <td>None</td>\n",
       "      <td>None</td>\n",
       "      <td>1415</td>\n",
       "    </tr>\n",
       "  </tbody>\n",
       "</table>\n",
       "</div>"
      ],
      "text/plain": [
       "        mxm_id  lyrics_id                                             lyrics  \\\n",
       "66787  2467236    1255765  (Big Moe)\\nYeee-yeee haahee yeehaa, yeee-yaahe...   \n",
       "\n",
       "       explicit lyrics_language lyrics_language_description  lyrics_length  \n",
       "66787         1            None                        None           1415  "
      ]
     },
     "execution_count": 16,
     "metadata": {},
     "output_type": "execute_result"
    }
   ],
   "source": [
    "lyrics_df[lyrics_df['lyrics_length'] == 1415]"
   ]
  },
  {
   "cell_type": "code",
   "execution_count": 17,
   "metadata": {},
   "outputs": [
    {
     "data": {
      "text/html": [
       "<div>\n",
       "<style scoped>\n",
       "    .dataframe tbody tr th:only-of-type {\n",
       "        vertical-align: middle;\n",
       "    }\n",
       "\n",
       "    .dataframe tbody tr th {\n",
       "        vertical-align: top;\n",
       "    }\n",
       "\n",
       "    .dataframe thead th {\n",
       "        text-align: right;\n",
       "    }\n",
       "</style>\n",
       "<table border=\"1\" class=\"dataframe\">\n",
       "  <thead>\n",
       "    <tr style=\"text-align: right;\">\n",
       "      <th></th>\n",
       "      <th>mxm_id</th>\n",
       "      <th>lyrics_id</th>\n",
       "      <th>lyrics</th>\n",
       "      <th>explicit</th>\n",
       "      <th>lyrics_language</th>\n",
       "      <th>lyrics_language_description</th>\n",
       "      <th>lyrics_length</th>\n",
       "    </tr>\n",
       "  </thead>\n",
       "  <tbody>\n",
       "    <tr>\n",
       "      <th>66787</th>\n",
       "      <td>2467236</td>\n",
       "      <td>1255765</td>\n",
       "      <td>(Big Moe)\\nYeee-yeee haahee yeehaa, yeee-yaahe...</td>\n",
       "      <td>1</td>\n",
       "      <td>None</td>\n",
       "      <td>None</td>\n",
       "      <td>1415</td>\n",
       "    </tr>\n",
       "    <tr>\n",
       "      <th>17629</th>\n",
       "      <td>919544</td>\n",
       "      <td>2204519</td>\n",
       "      <td>Oh yeah, come on now, oh yeah\\nOh yeah, come o...</td>\n",
       "      <td>0</td>\n",
       "      <td>None</td>\n",
       "      <td>None</td>\n",
       "      <td>1290</td>\n",
       "    </tr>\n",
       "    <tr>\n",
       "      <th>103994</th>\n",
       "      <td>4711924</td>\n",
       "      <td>1233807</td>\n",
       "      <td>From Sage Daelun's \"Chronicles of Antediluvia\"...</td>\n",
       "      <td>1</td>\n",
       "      <td>None</td>\n",
       "      <td>None</td>\n",
       "      <td>992</td>\n",
       "    </tr>\n",
       "    <tr>\n",
       "      <th>17630</th>\n",
       "      <td>919545</td>\n",
       "      <td>2204465</td>\n",
       "      <td>Oh oh. Yeah.\\nShoo doo doo doo doo doo.\\n\\nLas...</td>\n",
       "      <td>0</td>\n",
       "      <td>None</td>\n",
       "      <td>None</td>\n",
       "      <td>943</td>\n",
       "    </tr>\n",
       "    <tr>\n",
       "      <th>45819</th>\n",
       "      <td>1627470</td>\n",
       "      <td>1233817</td>\n",
       "      <td>Words gleaned from the Crystal of Memory:\\nUpo...</td>\n",
       "      <td>0</td>\n",
       "      <td>None</td>\n",
       "      <td>None</td>\n",
       "      <td>911</td>\n",
       "    </tr>\n",
       "    <tr>\n",
       "      <th>11400</th>\n",
       "      <td>804740</td>\n",
       "      <td>5195340</td>\n",
       "      <td>Classes\\nI've got something to say about the s...</td>\n",
       "      <td>1</td>\n",
       "      <td>None</td>\n",
       "      <td>None</td>\n",
       "      <td>744</td>\n",
       "    </tr>\n",
       "    <tr>\n",
       "      <th>21021</th>\n",
       "      <td>990208</td>\n",
       "      <td>73155</td>\n",
       "      <td>\"Alright, everybody. We're here in Los Angeles...</td>\n",
       "      <td>1</td>\n",
       "      <td>None</td>\n",
       "      <td>None</td>\n",
       "      <td>650</td>\n",
       "    </tr>\n",
       "    <tr>\n",
       "      <th>167681</th>\n",
       "      <td>12697217</td>\n",
       "      <td>7775482</td>\n",
       "      <td>L'encre coule, le sang se répand\\nLa feuille b...</td>\n",
       "      <td>1</td>\n",
       "      <td>None</td>\n",
       "      <td>None</td>\n",
       "      <td>589</td>\n",
       "    </tr>\n",
       "    <tr>\n",
       "      <th>103998</th>\n",
       "      <td>4711928</td>\n",
       "      <td>5399333</td>\n",
       "      <td>[Fragmentary delusional recollections from wit...</td>\n",
       "      <td>0</td>\n",
       "      <td>None</td>\n",
       "      <td>None</td>\n",
       "      <td>522</td>\n",
       "    </tr>\n",
       "    <tr>\n",
       "      <th>127517</th>\n",
       "      <td>6338543</td>\n",
       "      <td>25127099</td>\n",
       "      <td>J'suis né poussière et j'repartirai poussière\\...</td>\n",
       "      <td>1</td>\n",
       "      <td>None</td>\n",
       "      <td>None</td>\n",
       "      <td>507</td>\n",
       "    </tr>\n",
       "  </tbody>\n",
       "</table>\n",
       "</div>"
      ],
      "text/plain": [
       "          mxm_id  lyrics_id  \\\n",
       "66787    2467236    1255765   \n",
       "17629     919544    2204519   \n",
       "103994   4711924    1233807   \n",
       "17630     919545    2204465   \n",
       "45819    1627470    1233817   \n",
       "11400     804740    5195340   \n",
       "21021     990208      73155   \n",
       "167681  12697217    7775482   \n",
       "103998   4711928    5399333   \n",
       "127517   6338543   25127099   \n",
       "\n",
       "                                                   lyrics  explicit  \\\n",
       "66787   (Big Moe)\\nYeee-yeee haahee yeehaa, yeee-yaahe...         1   \n",
       "17629   Oh yeah, come on now, oh yeah\\nOh yeah, come o...         0   \n",
       "103994  From Sage Daelun's \"Chronicles of Antediluvia\"...         1   \n",
       "17630   Oh oh. Yeah.\\nShoo doo doo doo doo doo.\\n\\nLas...         0   \n",
       "45819   Words gleaned from the Crystal of Memory:\\nUpo...         0   \n",
       "11400   Classes\\nI've got something to say about the s...         1   \n",
       "21021   \"Alright, everybody. We're here in Los Angeles...         1   \n",
       "167681  L'encre coule, le sang se répand\\nLa feuille b...         1   \n",
       "103998  [Fragmentary delusional recollections from wit...         0   \n",
       "127517  J'suis né poussière et j'repartirai poussière\\...         1   \n",
       "\n",
       "       lyrics_language lyrics_language_description  lyrics_length  \n",
       "66787             None                        None           1415  \n",
       "17629             None                        None           1290  \n",
       "103994            None                        None            992  \n",
       "17630             None                        None            943  \n",
       "45819             None                        None            911  \n",
       "11400             None                        None            744  \n",
       "21021             None                        None            650  \n",
       "167681            None                        None            589  \n",
       "103998            None                        None            522  \n",
       "127517            None                        None            507  "
      ]
     },
     "execution_count": 17,
     "metadata": {},
     "output_type": "execute_result"
    }
   ],
   "source": [
    "lyrics_df.sort_values(by='lyrics_length', ascending=False).head(10)"
   ]
  },
  {
   "cell_type": "code",
   "execution_count": 18,
   "metadata": {},
   "outputs": [
    {
     "data": {
      "text/plain": [
       "\"The big wheel keeps on turning\\nOn a simple line, day by day\\nThe earth spins on its axis\\nOne man struggle while another relaxes\\n\\nThere's a hole in my soul like a cavity\\nSeems the world is out to gather just by gravity\\nThe wheel keeps turning, the sky's rearranging\\nLook, my son, the weather is changing\\n\\nI'd like to feel that you could be free\\nLook up at the blue skies beneath a new tree\\nSometime again, you'll turn green, and the sea turns red\\nMy son, I said, the power of reflections over my head\\n\\nThe big wheel keeps on turning\\nOn a simple line, day by day\\nThe earth spins on its axis\\nOne man struggle while another relaxes\\n...\\n\\n\""
      ]
     },
     "execution_count": 18,
     "metadata": {},
     "output_type": "execute_result"
    }
   ],
   "source": [
    "lyrics_ex = lyrics_df['lyrics'][0]\n",
    "lyrics_ex"
   ]
  },
  {
   "cell_type": "markdown",
   "metadata": {},
   "source": [
    "#### Should we clean lyrics upon reading in? Something we will need to do before LSTM "
   ]
  },
  {
   "cell_type": "code",
   "execution_count": 19,
   "metadata": {},
   "outputs": [
    {
     "name": "stdout",
     "output_type": "stream",
     "text": [
      "The big wheel keeps on turning\n",
      "On a simple line, day by day\n",
      "The earth spins on its axis\n",
      "One man struggle while another relaxes\n",
      "\n",
      "There's a hole in my soul like a cavity\n",
      "Seems the world is out to gather just by gravity\n",
      "The wheel keeps turning, the sky's rearranging\n",
      "Look, my son, the weather is changing\n",
      "\n",
      "I'd like to feel that you could be free\n",
      "Look up at the blue skies beneath a new tree\n",
      "Sometime again, you'll turn green, and the sea turns red\n",
      "My son, I said, the power of reflections over my head\n",
      "\n",
      "The big wheel keeps on turning\n",
      "On a simple line, day by day\n",
      "The earth spins on its axis\n",
      "One man struggle while another relaxes\n",
      "...\n",
      "\n",
      "\n",
      "The big wheel keeps on turning On a simple line  day by day The earth spins on its axis One man struggle while another relaxes  There s a hole in my soul like a cavity Seems the world is out to gather just by gravity The wheel keeps turning  the sky s rearranging Look  my son  the weather is changing  I d like to feel that you could be free Look up at the blue skies beneath a new tree Sometime again  you ll turn green  and the sea turns red My son  I said  the power of reflections over my head  The big wheel keeps on turning On a simple line  day by day The earth spins on its axis One man struggle while another relaxes      \n",
      "the big wheel keeps on turning on a simple line  day by day the earth spins on its axis one man struggle while another relaxes  there s a hole in my soul like a cavity seems the world is out to gather just by gravity the wheel keeps turning  the sky s rearranging look  my son  the weather is changing  i d like to feel that you could be free look up at the blue skies beneath a new tree sometime again  you ll turn green  and the sea turns red my son  i said  the power of reflections over my head  the big wheel keeps on turning on a simple line  day by day the earth spins on its axis one man struggle while another relaxes      \n",
      "['the', 'big', 'wheel', 'keeps', 'on', 'turning', 'on', 'a', 'simple', 'line', 'day', 'by', 'day', 'the', 'earth', 'spins', 'on', 'its', 'axis', 'one', 'man', 'struggle', 'while', 'another', 'relaxes', 'there', 's', 'a', 'hole', 'in', 'my', 'soul', 'like', 'a', 'cavity', 'seems', 'the', 'world', 'is', 'out', 'to', 'gather', 'just', 'by', 'gravity', 'the', 'wheel', 'keeps', 'turning', 'the', 'sky', 's', 'rearranging', 'look', 'my', 'son', 'the', 'weather', 'is', 'changing', 'i', 'd', 'like', 'to', 'feel', 'that', 'you', 'could', 'be', 'free', 'look', 'up', 'at', 'the', 'blue', 'skies', 'beneath', 'a', 'new', 'tree', 'sometime', 'again', 'you', 'll', 'turn', 'green', 'and', 'the', 'sea', 'turns', 'red', 'my', 'son', 'i', 'said', 'the', 'power', 'of', 'reflections', 'over', 'my', 'head', 'the', 'big', 'wheel', 'keeps', 'on', 'turning', 'on', 'a', 'simple', 'line', 'day', 'by', 'day', 'the', 'earth', 'spins', 'on', 'its', 'axis', 'one', 'man', 'struggle', 'while', 'another', 'relaxes']\n",
      "['big', 'wheel', 'keep', 'turn', 'simpl', 'line', 'day', 'day', 'earth', 'spin', 'axi', 'one', 'man', 'struggl', 'anoth', 'relax', 'hole', 'soul', 'like', 'caviti', 'seem', 'world', 'gather', 'graviti', 'wheel', 'keep', 'turn', 'sky', 'rearrang', 'look', 'son', 'weather', 'chang', 'like', 'feel', 'could', 'free', 'look', 'blue', 'sky', 'beneath', 'new', 'tree', 'sometim', 'turn', 'green', 'sea', 'turn', 'red', 'son', 'said', 'power', 'reflect', 'head', 'big', 'wheel', 'keep', 'turn', 'simpl', 'line', 'day', 'day', 'earth', 'spin', 'axi', 'one', 'man', 'struggl', 'anoth', 'relax']\n",
      "big wheel keep turn simpl line day day earth spin axi one man struggl anoth relax hole soul like caviti seem world gather graviti wheel keep turn sky rearrang look son weather chang like feel could free look blue sky beneath new tree sometim turn green sea turn red son said power reflect head big wheel keep turn simpl line day day earth spin axi one man struggl anoth relax\n"
     ]
    }
   ],
   "source": [
    "print(lyrics_df.iloc[0]['lyrics'])\n",
    "\n",
    "# Remove the non important words \n",
    "lyrics = re.sub(pattern = '[^a-zA-Z]', repl = ' ', string = lyrics_df.iloc[0]['lyrics']) \n",
    "print(lyrics)\n",
    "\n",
    "# Lowercase  \n",
    "lyrics = lyrics.lower()\n",
    "print(lyrics)\n",
    "\n",
    "# Split string\n",
    "lyrics = lyrics.split()\n",
    "print(lyrics)\n",
    "\n",
    "# Make Porter stemmer to stem our words, to remove suffix & prefix\n",
    "ps = PorterStemmer()\n",
    "\n",
    "# Keep the words in the list that are not in the Stopwords list \n",
    "lyrics = [ps.stem(word) for word in lyrics if not word in set(stopwords.words('english'))]\n",
    "print(lyrics)\n",
    "\n",
    "# Convert back to string \n",
    "lyrics = ' '.join(lyrics)\n",
    "print(lyrics)"
   ]
  },
  {
   "cell_type": "code",
   "execution_count": 20,
   "metadata": {},
   "outputs": [],
   "source": [
    "def clean_lower_stem(lyrics):\n",
    "\n",
    "    # Remove the non important words \n",
    "    lyrics = re.sub(pattern = '[^a-zA-Z]', repl = ' ', string = lyrics) \n",
    "\n",
    "    # Lowercase  \n",
    "    lyrics = lyrics.lower()\n",
    "    \n",
    "    # Split string\n",
    "    lyrics = lyrics.split()\n",
    "    \n",
    "    # Make Porter stemmer to stem our words, to remove suffix & prefix\n",
    "    ps = PorterStemmer()\n",
    "\n",
    "    # Keep the words in the list that are not in the Stopwords list \n",
    "    lyrics = [ps.stem(word) for word in lyrics if not word in set(stopwords.words('english'))]\n",
    "    \n",
    "    # Convert back to string \n",
    "    lyrics = ' '.join(lyrics)\n",
    "    \n",
    "    return lyrics \n",
    "    "
   ]
  },
  {
   "cell_type": "markdown",
   "metadata": {},
   "source": [
    "### Practice on Subset of Data "
   ]
  },
  {
   "cell_type": "code",
   "execution_count": 21,
   "metadata": {},
   "outputs": [],
   "source": [
    "small_df = lyrics_df[(lyrics_df['lyrics_length'] > 70) & (lyrics_df['lyrics_length'] < 80 )]"
   ]
  },
  {
   "cell_type": "code",
   "execution_count": 22,
   "metadata": {},
   "outputs": [
    {
     "data": {
      "text/plain": [
       "(13911, 7)"
      ]
     },
     "execution_count": 22,
     "metadata": {},
     "output_type": "execute_result"
    }
   ],
   "source": [
    "small_df.shape"
   ]
  },
  {
   "cell_type": "code",
   "execution_count": 23,
   "metadata": {},
   "outputs": [
    {
     "name": "stderr",
     "output_type": "stream",
     "text": [
      "/Users/amandahutter/anaconda3/lib/python3.7/site-packages/ipykernel_launcher.py:1: SettingWithCopyWarning: \n",
      "A value is trying to be set on a copy of a slice from a DataFrame.\n",
      "Try using .loc[row_indexer,col_indexer] = value instead\n",
      "\n",
      "See the caveats in the documentation: https://pandas.pydata.org/pandas-docs/stable/user_guide/indexing.html#returning-a-view-versus-a-copy\n",
      "  \"\"\"Entry point for launching an IPython kernel.\n"
     ]
    }
   ],
   "source": [
    "small_df['lyrics_clean'] = small_df['lyrics'].apply(clean_lower_stem)"
   ]
  },
  {
   "cell_type": "code",
   "execution_count": 24,
   "metadata": {},
   "outputs": [
    {
     "data": {
      "text/html": [
       "<div>\n",
       "<style scoped>\n",
       "    .dataframe tbody tr th:only-of-type {\n",
       "        vertical-align: middle;\n",
       "    }\n",
       "\n",
       "    .dataframe tbody tr th {\n",
       "        vertical-align: top;\n",
       "    }\n",
       "\n",
       "    .dataframe thead th {\n",
       "        text-align: right;\n",
       "    }\n",
       "</style>\n",
       "<table border=\"1\" class=\"dataframe\">\n",
       "  <thead>\n",
       "    <tr style=\"text-align: right;\">\n",
       "      <th></th>\n",
       "      <th>mxm_id</th>\n",
       "      <th>lyrics_id</th>\n",
       "      <th>lyrics</th>\n",
       "      <th>explicit</th>\n",
       "      <th>lyrics_language</th>\n",
       "      <th>lyrics_language_description</th>\n",
       "      <th>lyrics_length</th>\n",
       "      <th>lyrics_clean</th>\n",
       "    </tr>\n",
       "  </thead>\n",
       "  <tbody>\n",
       "    <tr>\n",
       "      <th>18</th>\n",
       "      <td>555949</td>\n",
       "      <td>22847702</td>\n",
       "      <td>I can't stand it, I know you planned it\\nI'm g...</td>\n",
       "      <td>1</td>\n",
       "      <td>None</td>\n",
       "      <td>None</td>\n",
       "      <td>78</td>\n",
       "      <td>stand know plan gonna set straight waterg stan...</td>\n",
       "    </tr>\n",
       "    <tr>\n",
       "      <th>70</th>\n",
       "      <td>556540</td>\n",
       "      <td>1252240</td>\n",
       "      <td>Where have you gone, my Rosealia?\\nInto the cr...</td>\n",
       "      <td>0</td>\n",
       "      <td>None</td>\n",
       "      <td>None</td>\n",
       "      <td>77</td>\n",
       "      <td>gone rosealia crowd never find ya walk real fa...</td>\n",
       "    </tr>\n",
       "    <tr>\n",
       "      <th>77</th>\n",
       "      <td>556650</td>\n",
       "      <td>4122121</td>\n",
       "      <td>Well, i never was good at bein' good\\nI was ne...</td>\n",
       "      <td>1</td>\n",
       "      <td>None</td>\n",
       "      <td>None</td>\n",
       "      <td>72</td>\n",
       "      <td>well never good bein good never kind said one ...</td>\n",
       "    </tr>\n",
       "    <tr>\n",
       "      <th>100</th>\n",
       "      <td>556816</td>\n",
       "      <td>21678451</td>\n",
       "      <td>All last summer, in case you don't recall\\nI w...</td>\n",
       "      <td>0</td>\n",
       "      <td>None</td>\n",
       "      <td>None</td>\n",
       "      <td>77</td>\n",
       "      <td>last summer case recal mine forget line could ...</td>\n",
       "    </tr>\n",
       "    <tr>\n",
       "      <th>108</th>\n",
       "      <td>556860</td>\n",
       "      <td>1206201</td>\n",
       "      <td>What is your one purpose in life?\\nWhat is you...</td>\n",
       "      <td>0</td>\n",
       "      <td>None</td>\n",
       "      <td>None</td>\n",
       "      <td>77</td>\n",
       "      <td>one purpos life one purpos life one purpos lif...</td>\n",
       "    </tr>\n",
       "  </tbody>\n",
       "</table>\n",
       "</div>"
      ],
      "text/plain": [
       "     mxm_id  lyrics_id                                             lyrics  \\\n",
       "18   555949   22847702  I can't stand it, I know you planned it\\nI'm g...   \n",
       "70   556540    1252240  Where have you gone, my Rosealia?\\nInto the cr...   \n",
       "77   556650    4122121  Well, i never was good at bein' good\\nI was ne...   \n",
       "100  556816   21678451  All last summer, in case you don't recall\\nI w...   \n",
       "108  556860    1206201  What is your one purpose in life?\\nWhat is you...   \n",
       "\n",
       "     explicit lyrics_language lyrics_language_description  lyrics_length  \\\n",
       "18          1            None                        None             78   \n",
       "70          0            None                        None             77   \n",
       "77          1            None                        None             72   \n",
       "100         0            None                        None             77   \n",
       "108         0            None                        None             77   \n",
       "\n",
       "                                          lyrics_clean  \n",
       "18   stand know plan gonna set straight waterg stan...  \n",
       "70   gone rosealia crowd never find ya walk real fa...  \n",
       "77   well never good bein good never kind said one ...  \n",
       "100  last summer case recal mine forget line could ...  \n",
       "108  one purpos life one purpos life one purpos lif...  "
      ]
     },
     "execution_count": 24,
     "metadata": {},
     "output_type": "execute_result"
    }
   ],
   "source": [
    "small_df.head()"
   ]
  },
  {
   "cell_type": "code",
   "execution_count": null,
   "metadata": {},
   "outputs": [],
   "source": []
  },
  {
   "cell_type": "markdown",
   "metadata": {},
   "source": [
    "### Add MXM Dataset "
   ]
  },
  {
   "cell_type": "code",
   "execution_count": 25,
   "metadata": {},
   "outputs": [],
   "source": [
    "# Create your connection.\n",
    "cnx = sqlite3.connect('mxm_dataset.db') # words, lyrics (table options)\n",
    "#words_df = pd.read_sql_query(\"SELECT * FROM words\", cnx)\n",
    "mxm_lyrics_df = pd.read_sql_query(\"SELECT * FROM lyrics\", cnx)"
   ]
  },
  {
   "cell_type": "code",
   "execution_count": 26,
   "metadata": {},
   "outputs": [],
   "source": [
    "#words_df.shape"
   ]
  },
  {
   "cell_type": "code",
   "execution_count": 27,
   "metadata": {},
   "outputs": [],
   "source": [
    "#words_df.head()"
   ]
  },
  {
   "cell_type": "code",
   "execution_count": 28,
   "metadata": {},
   "outputs": [
    {
     "data": {
      "text/plain": [
       "(19045332, 5)"
      ]
     },
     "execution_count": 28,
     "metadata": {},
     "output_type": "execute_result"
    }
   ],
   "source": [
    "mxm_lyrics_df.shape"
   ]
  },
  {
   "cell_type": "code",
   "execution_count": 29,
   "metadata": {},
   "outputs": [
    {
     "data": {
      "text/html": [
       "<div>\n",
       "<style scoped>\n",
       "    .dataframe tbody tr th:only-of-type {\n",
       "        vertical-align: middle;\n",
       "    }\n",
       "\n",
       "    .dataframe tbody tr th {\n",
       "        vertical-align: top;\n",
       "    }\n",
       "\n",
       "    .dataframe thead th {\n",
       "        text-align: right;\n",
       "    }\n",
       "</style>\n",
       "<table border=\"1\" class=\"dataframe\">\n",
       "  <thead>\n",
       "    <tr style=\"text-align: right;\">\n",
       "      <th></th>\n",
       "      <th>track_id</th>\n",
       "      <th>mxm_tid</th>\n",
       "      <th>word</th>\n",
       "      <th>count</th>\n",
       "      <th>is_test</th>\n",
       "    </tr>\n",
       "  </thead>\n",
       "  <tbody>\n",
       "    <tr>\n",
       "      <th>0</th>\n",
       "      <td>TRAAAAV128F421A322</td>\n",
       "      <td>4623710</td>\n",
       "      <td>i</td>\n",
       "      <td>6</td>\n",
       "      <td>0</td>\n",
       "    </tr>\n",
       "    <tr>\n",
       "      <th>1</th>\n",
       "      <td>TRAAAAV128F421A322</td>\n",
       "      <td>4623710</td>\n",
       "      <td>the</td>\n",
       "      <td>4</td>\n",
       "      <td>0</td>\n",
       "    </tr>\n",
       "    <tr>\n",
       "      <th>2</th>\n",
       "      <td>TRAAAAV128F421A322</td>\n",
       "      <td>4623710</td>\n",
       "      <td>you</td>\n",
       "      <td>2</td>\n",
       "      <td>0</td>\n",
       "    </tr>\n",
       "    <tr>\n",
       "      <th>3</th>\n",
       "      <td>TRAAAAV128F421A322</td>\n",
       "      <td>4623710</td>\n",
       "      <td>to</td>\n",
       "      <td>2</td>\n",
       "      <td>0</td>\n",
       "    </tr>\n",
       "    <tr>\n",
       "      <th>4</th>\n",
       "      <td>TRAAAAV128F421A322</td>\n",
       "      <td>4623710</td>\n",
       "      <td>and</td>\n",
       "      <td>5</td>\n",
       "      <td>0</td>\n",
       "    </tr>\n",
       "  </tbody>\n",
       "</table>\n",
       "</div>"
      ],
      "text/plain": [
       "             track_id  mxm_tid word  count  is_test\n",
       "0  TRAAAAV128F421A322  4623710    i      6        0\n",
       "1  TRAAAAV128F421A322  4623710  the      4        0\n",
       "2  TRAAAAV128F421A322  4623710  you      2        0\n",
       "3  TRAAAAV128F421A322  4623710   to      2        0\n",
       "4  TRAAAAV128F421A322  4623710  and      5        0"
      ]
     },
     "execution_count": 29,
     "metadata": {},
     "output_type": "execute_result"
    }
   ],
   "source": [
    "mxm_lyrics_df.head()"
   ]
  },
  {
   "cell_type": "code",
   "execution_count": 30,
   "metadata": {},
   "outputs": [],
   "source": [
    "unique_ids =  mxm_lyrics_df[['track_id', 'mxm_tid']].drop_duplicates(subset=['track_id', 'mxm_tid'])"
   ]
  },
  {
   "cell_type": "code",
   "execution_count": 31,
   "metadata": {},
   "outputs": [
    {
     "data": {
      "text/plain": [
       "(237662, 2)"
      ]
     },
     "execution_count": 31,
     "metadata": {},
     "output_type": "execute_result"
    }
   ],
   "source": [
    "unique_ids.shape"
   ]
  },
  {
   "cell_type": "code",
   "execution_count": 32,
   "metadata": {},
   "outputs": [
    {
     "data": {
      "text/html": [
       "<div>\n",
       "<style scoped>\n",
       "    .dataframe tbody tr th:only-of-type {\n",
       "        vertical-align: middle;\n",
       "    }\n",
       "\n",
       "    .dataframe tbody tr th {\n",
       "        vertical-align: top;\n",
       "    }\n",
       "\n",
       "    .dataframe thead th {\n",
       "        text-align: right;\n",
       "    }\n",
       "</style>\n",
       "<table border=\"1\" class=\"dataframe\">\n",
       "  <thead>\n",
       "    <tr style=\"text-align: right;\">\n",
       "      <th></th>\n",
       "      <th>track_id</th>\n",
       "      <th>mxm_tid</th>\n",
       "    </tr>\n",
       "  </thead>\n",
       "  <tbody>\n",
       "    <tr>\n",
       "      <th>0</th>\n",
       "      <td>TRAAAAV128F421A322</td>\n",
       "      <td>4623710</td>\n",
       "    </tr>\n",
       "    <tr>\n",
       "      <th>68</th>\n",
       "      <td>TRAAABD128F429CF47</td>\n",
       "      <td>6477168</td>\n",
       "    </tr>\n",
       "    <tr>\n",
       "      <th>142</th>\n",
       "      <td>TRAAAED128E0783FAB</td>\n",
       "      <td>2516445</td>\n",
       "    </tr>\n",
       "    <tr>\n",
       "      <th>262</th>\n",
       "      <td>TRAAAEF128F4273421</td>\n",
       "      <td>3759847</td>\n",
       "    </tr>\n",
       "    <tr>\n",
       "      <th>321</th>\n",
       "      <td>TRAAAEW128F42930C0</td>\n",
       "      <td>3783760</td>\n",
       "    </tr>\n",
       "  </tbody>\n",
       "</table>\n",
       "</div>"
      ],
      "text/plain": [
       "               track_id  mxm_tid\n",
       "0    TRAAAAV128F421A322  4623710\n",
       "68   TRAAABD128F429CF47  6477168\n",
       "142  TRAAAED128E0783FAB  2516445\n",
       "262  TRAAAEF128F4273421  3759847\n",
       "321  TRAAAEW128F42930C0  3783760"
      ]
     },
     "execution_count": 32,
     "metadata": {},
     "output_type": "execute_result"
    }
   ],
   "source": [
    "unique_ids.head()"
   ]
  },
  {
   "cell_type": "code",
   "execution_count": 33,
   "metadata": {},
   "outputs": [],
   "source": [
    "unique_ids['msd_id'] = unique_ids['track_id']\n",
    "unique_ids['mxm_id'] = unique_ids['mxm_tid']\n",
    "unique_ids.drop(columns=['track_id', 'mxm_tid'], inplace = True)\n"
   ]
  },
  {
   "cell_type": "code",
   "execution_count": 34,
   "metadata": {},
   "outputs": [
    {
     "data": {
      "text/html": [
       "<div>\n",
       "<style scoped>\n",
       "    .dataframe tbody tr th:only-of-type {\n",
       "        vertical-align: middle;\n",
       "    }\n",
       "\n",
       "    .dataframe tbody tr th {\n",
       "        vertical-align: top;\n",
       "    }\n",
       "\n",
       "    .dataframe thead th {\n",
       "        text-align: right;\n",
       "    }\n",
       "</style>\n",
       "<table border=\"1\" class=\"dataframe\">\n",
       "  <thead>\n",
       "    <tr style=\"text-align: right;\">\n",
       "      <th></th>\n",
       "      <th>msd_id</th>\n",
       "      <th>mxm_id</th>\n",
       "    </tr>\n",
       "  </thead>\n",
       "  <tbody>\n",
       "    <tr>\n",
       "      <th>0</th>\n",
       "      <td>TRAAAAV128F421A322</td>\n",
       "      <td>4623710</td>\n",
       "    </tr>\n",
       "    <tr>\n",
       "      <th>68</th>\n",
       "      <td>TRAAABD128F429CF47</td>\n",
       "      <td>6477168</td>\n",
       "    </tr>\n",
       "    <tr>\n",
       "      <th>142</th>\n",
       "      <td>TRAAAED128E0783FAB</td>\n",
       "      <td>2516445</td>\n",
       "    </tr>\n",
       "    <tr>\n",
       "      <th>262</th>\n",
       "      <td>TRAAAEF128F4273421</td>\n",
       "      <td>3759847</td>\n",
       "    </tr>\n",
       "    <tr>\n",
       "      <th>321</th>\n",
       "      <td>TRAAAEW128F42930C0</td>\n",
       "      <td>3783760</td>\n",
       "    </tr>\n",
       "  </tbody>\n",
       "</table>\n",
       "</div>"
      ],
      "text/plain": [
       "                 msd_id   mxm_id\n",
       "0    TRAAAAV128F421A322  4623710\n",
       "68   TRAAABD128F429CF47  6477168\n",
       "142  TRAAAED128E0783FAB  2516445\n",
       "262  TRAAAEF128F4273421  3759847\n",
       "321  TRAAAEW128F42930C0  3783760"
      ]
     },
     "execution_count": 34,
     "metadata": {},
     "output_type": "execute_result"
    }
   ],
   "source": [
    "unique_ids.head()"
   ]
  },
  {
   "cell_type": "code",
   "execution_count": 35,
   "metadata": {},
   "outputs": [],
   "source": [
    "#small_df =  small_df.merge(unique_ids, how='inner', on='mxm_id')\n",
    "lyrics_df =  lyrics_df.merge(unique_ids, how='inner', on='mxm_id')"
   ]
  },
  {
   "cell_type": "code",
   "execution_count": 36,
   "metadata": {},
   "outputs": [
    {
     "data": {
      "text/html": [
       "<div>\n",
       "<style scoped>\n",
       "    .dataframe tbody tr th:only-of-type {\n",
       "        vertical-align: middle;\n",
       "    }\n",
       "\n",
       "    .dataframe tbody tr th {\n",
       "        vertical-align: top;\n",
       "    }\n",
       "\n",
       "    .dataframe thead th {\n",
       "        text-align: right;\n",
       "    }\n",
       "</style>\n",
       "<table border=\"1\" class=\"dataframe\">\n",
       "  <thead>\n",
       "    <tr style=\"text-align: right;\">\n",
       "      <th></th>\n",
       "      <th>mxm_id</th>\n",
       "      <th>lyrics_id</th>\n",
       "      <th>lyrics</th>\n",
       "      <th>explicit</th>\n",
       "      <th>lyrics_language</th>\n",
       "      <th>lyrics_language_description</th>\n",
       "      <th>lyrics_length</th>\n",
       "      <th>msd_id</th>\n",
       "    </tr>\n",
       "  </thead>\n",
       "  <tbody>\n",
       "    <tr>\n",
       "      <th>0</th>\n",
       "      <td>555821</td>\n",
       "      <td>16701750</td>\n",
       "      <td>The big wheel keeps on turning\\nOn a simple li...</td>\n",
       "      <td>0</td>\n",
       "      <td>None</td>\n",
       "      <td>None</td>\n",
       "      <td>108</td>\n",
       "      <td>TRXISWJ128F42ACCF9</td>\n",
       "    </tr>\n",
       "    <tr>\n",
       "      <th>1</th>\n",
       "      <td>555832</td>\n",
       "      <td>6069922</td>\n",
       "      <td>I've been searchin' all over for someone\\nI ca...</td>\n",
       "      <td>0</td>\n",
       "      <td>None</td>\n",
       "      <td>None</td>\n",
       "      <td>49</td>\n",
       "      <td>TRFCZMA128F92CD5F8</td>\n",
       "    </tr>\n",
       "    <tr>\n",
       "      <th>2</th>\n",
       "      <td>555842</td>\n",
       "      <td>6092005</td>\n",
       "      <td>I've found a new baby\\nI've found a new girl\\n...</td>\n",
       "      <td>0</td>\n",
       "      <td>None</td>\n",
       "      <td>None</td>\n",
       "      <td>27</td>\n",
       "      <td>TROVDLK128F93271B2</td>\n",
       "    </tr>\n",
       "    <tr>\n",
       "      <th>3</th>\n",
       "      <td>555901</td>\n",
       "      <td>1691427</td>\n",
       "      <td>I think I'll come over\\nI'll give you my numbe...</td>\n",
       "      <td>0</td>\n",
       "      <td>None</td>\n",
       "      <td>None</td>\n",
       "      <td>32</td>\n",
       "      <td>TRECMQY128E0781143</td>\n",
       "    </tr>\n",
       "    <tr>\n",
       "      <th>4</th>\n",
       "      <td>555918</td>\n",
       "      <td>10129918</td>\n",
       "      <td>She's worried she said too much\\nAnd talking i...</td>\n",
       "      <td>0</td>\n",
       "      <td>None</td>\n",
       "      <td>None</td>\n",
       "      <td>46</td>\n",
       "      <td>TRWMCCR128F4268FC1</td>\n",
       "    </tr>\n",
       "  </tbody>\n",
       "</table>\n",
       "</div>"
      ],
      "text/plain": [
       "   mxm_id  lyrics_id                                             lyrics  \\\n",
       "0  555821   16701750  The big wheel keeps on turning\\nOn a simple li...   \n",
       "1  555832    6069922  I've been searchin' all over for someone\\nI ca...   \n",
       "2  555842    6092005  I've found a new baby\\nI've found a new girl\\n...   \n",
       "3  555901    1691427  I think I'll come over\\nI'll give you my numbe...   \n",
       "4  555918   10129918  She's worried she said too much\\nAnd talking i...   \n",
       "\n",
       "   explicit lyrics_language lyrics_language_description  lyrics_length  \\\n",
       "0         0            None                        None            108   \n",
       "1         0            None                        None             49   \n",
       "2         0            None                        None             27   \n",
       "3         0            None                        None             32   \n",
       "4         0            None                        None             46   \n",
       "\n",
       "               msd_id  \n",
       "0  TRXISWJ128F42ACCF9  \n",
       "1  TRFCZMA128F92CD5F8  \n",
       "2  TROVDLK128F93271B2  \n",
       "3  TRECMQY128E0781143  \n",
       "4  TRWMCCR128F4268FC1  "
      ]
     },
     "execution_count": 36,
     "metadata": {},
     "output_type": "execute_result"
    }
   ],
   "source": [
    "#small_df.head()\n",
    "lyrics_df.head()"
   ]
  },
  {
   "cell_type": "markdown",
   "metadata": {},
   "source": [
    "## Get similarity_df > from LastFM_EDA.ipynb "
   ]
  },
  {
   "cell_type": "code",
   "execution_count": 49,
   "metadata": {},
   "outputs": [],
   "source": [
    "similarity_df =  pd.read_csv('Similarity_df.csv')"
   ]
  },
  {
   "cell_type": "code",
   "execution_count": 50,
   "metadata": {},
   "outputs": [
    {
     "data": {
      "text/plain": [
       "(3985913, 3)"
      ]
     },
     "execution_count": 50,
     "metadata": {},
     "output_type": "execute_result"
    }
   ],
   "source": [
    "similarity_df.shape"
   ]
  },
  {
   "cell_type": "code",
   "execution_count": 51,
   "metadata": {},
   "outputs": [
    {
     "data": {
      "text/html": [
       "<div>\n",
       "<style scoped>\n",
       "    .dataframe tbody tr th:only-of-type {\n",
       "        vertical-align: middle;\n",
       "    }\n",
       "\n",
       "    .dataframe tbody tr th {\n",
       "        vertical-align: top;\n",
       "    }\n",
       "\n",
       "    .dataframe thead th {\n",
       "        text-align: right;\n",
       "    }\n",
       "</style>\n",
       "<table border=\"1\" class=\"dataframe\">\n",
       "  <thead>\n",
       "    <tr style=\"text-align: right;\">\n",
       "      <th></th>\n",
       "      <th>Track1</th>\n",
       "      <th>Track2</th>\n",
       "      <th>Similarity</th>\n",
       "    </tr>\n",
       "  </thead>\n",
       "  <tbody>\n",
       "    <tr>\n",
       "      <th>0</th>\n",
       "      <td>TRRRRCH128F9342C72</td>\n",
       "      <td>TRMLOXQ12903CF06BB</td>\n",
       "      <td>1.000000</td>\n",
       "    </tr>\n",
       "    <tr>\n",
       "      <th>1</th>\n",
       "      <td>TRRRRCH128F9342C72</td>\n",
       "      <td>TRCOWHF128F932163D</td>\n",
       "      <td>1.000000</td>\n",
       "    </tr>\n",
       "    <tr>\n",
       "      <th>2</th>\n",
       "      <td>TRRRRCH128F9342C72</td>\n",
       "      <td>TRRWESB128F92E08E4</td>\n",
       "      <td>1.000000</td>\n",
       "    </tr>\n",
       "    <tr>\n",
       "      <th>3</th>\n",
       "      <td>TRRRRCH128F9342C72</td>\n",
       "      <td>TRNJNJS128E0793567</td>\n",
       "      <td>1.000000</td>\n",
       "    </tr>\n",
       "    <tr>\n",
       "      <th>4</th>\n",
       "      <td>TRRRRCH128F9342C72</td>\n",
       "      <td>TRHJVGH12903CB1529</td>\n",
       "      <td>0.950061</td>\n",
       "    </tr>\n",
       "  </tbody>\n",
       "</table>\n",
       "</div>"
      ],
      "text/plain": [
       "               Track1              Track2  Similarity\n",
       "0  TRRRRCH128F9342C72  TRMLOXQ12903CF06BB    1.000000\n",
       "1  TRRRRCH128F9342C72  TRCOWHF128F932163D    1.000000\n",
       "2  TRRRRCH128F9342C72  TRRWESB128F92E08E4    1.000000\n",
       "3  TRRRRCH128F9342C72  TRNJNJS128E0793567    1.000000\n",
       "4  TRRRRCH128F9342C72  TRHJVGH12903CB1529    0.950061"
      ]
     },
     "execution_count": 51,
     "metadata": {},
     "output_type": "execute_result"
    }
   ],
   "source": [
    "similarity_df.head()"
   ]
  },
  {
   "cell_type": "code",
   "execution_count": 55,
   "metadata": {},
   "outputs": [
    {
     "data": {
      "text/plain": [
       "count    3.985913e+06\n",
       "mean     7.491090e-01\n",
       "std      2.628961e+01\n",
       "min      3.000010e-01\n",
       "25%      4.255950e-01\n",
       "50%      6.465440e-01\n",
       "75%      8.888290e-01\n",
       "max      1.000000e+04\n",
       "Name: Similarity, dtype: float64"
      ]
     },
     "execution_count": 55,
     "metadata": {},
     "output_type": "execute_result"
    }
   ],
   "source": [
    "similarity_df['Similarity'].describe()"
   ]
  },
  {
   "cell_type": "code",
   "execution_count": 58,
   "metadata": {},
   "outputs": [
    {
     "data": {
      "image/png": "[encoded data removed]",
      "text/plain": [
       "<Figure size 432x288 with 1 Axes>"
      ]
     },
     "metadata": {
      "needs_background": "light"
     },
     "output_type": "display_data"
    }
   ],
   "source": [
    "fig = plt.figure()\n",
    "ax = fig.add_subplot(1, 1, 1)\n",
    "\n",
    "ax.hist(similarity_df['Similarity'], bins = 100)\n",
    "plt.ylabel(\"Count of Songs w/ this similarity\")\n",
    "plt.xlabel(\"Similarity \")\n",
    "#ax.set_xscale('log')\n",
    "plt.title(\"Histogram of Similarity Pairs\")\n",
    "plt.show()"
   ]
  },
  {
   "cell_type": "code",
   "execution_count": 61,
   "metadata": {},
   "outputs": [
    {
     "data": {
      "image/png": "[encoded data removed]",
      "text/plain": [
       "<Figure size 432x288 with 1 Axes>"
      ]
     },
     "metadata": {
      "needs_background": "light"
     },
     "output_type": "display_data"
    }
   ],
   "source": [
    "temp = similarity_df[similarity_df['Similarity'] <= 1.0 ]\n",
    "\n",
    "fig = plt.figure()\n",
    "ax = fig.add_subplot(1, 1, 1)\n",
    "\n",
    "ax.hist(temp['Similarity'], bins = 100)\n",
    "plt.ylabel(\"Count of Songs w/ this similarity\")\n",
    "plt.xlabel(\"Similarity \")\n",
    "#ax.set_xscale('log')\n",
    "plt.title(\"Histogram of Similarity Pairs\")\n",
    "plt.show()"
   ]
  },
  {
   "cell_type": "code",
   "execution_count": null,
   "metadata": {},
   "outputs": [],
   "source": []
  },
  {
   "cell_type": "code",
   "execution_count": null,
   "metadata": {},
   "outputs": [],
   "source": []
  },
  {
   "cell_type": "code",
   "execution_count": 40,
   "metadata": {},
   "outputs": [],
   "source": [
    "# Reduce to pairs that have stronger similarity \n",
    "similarity_df = similarity_df[similarity_df['Similarity'] > .50]"
   ]
  },
  {
   "cell_type": "code",
   "execution_count": 41,
   "metadata": {},
   "outputs": [
    {
     "data": {
      "text/plain": [
       "(2625696, 3)"
      ]
     },
     "execution_count": 41,
     "metadata": {},
     "output_type": "execute_result"
    }
   ],
   "source": [
    "similarity_df.shape"
   ]
  },
  {
   "cell_type": "code",
   "execution_count": 42,
   "metadata": {},
   "outputs": [],
   "source": [
    "# Get Random Selections for Training Model \n",
    "np.random.seed(42)\n",
    "random_inds = np.random.choice(len(similarity_df), 7000, replace = False)\n",
    "train_inds = random_inds[:5000]\n",
    "test_inds = random_inds[5000:]"
   ]
  },
  {
   "cell_type": "code",
   "execution_count": 43,
   "metadata": {},
   "outputs": [],
   "source": [
    "# 5000 Training, 2000 Test, Song pairs that are all SIMILAR to train LSTM \n",
    "train_sim = similarity_df.iloc[train_inds]\n",
    "test_sim = similarity_df.iloc[test_inds]"
   ]
  },
  {
   "cell_type": "code",
   "execution_count": 44,
   "metadata": {},
   "outputs": [
    {
     "name": "stdout",
     "output_type": "stream",
     "text": [
      "(5000, 3)\n",
      "(2000, 3)\n"
     ]
    }
   ],
   "source": [
    "print(train_sim.shape)\n",
    "print(test_sim.shape)"
   ]
  },
  {
   "cell_type": "code",
   "execution_count": 45,
   "metadata": {},
   "outputs": [
    {
     "data": {
      "text/html": [
       "<div>\n",
       "<style scoped>\n",
       "    .dataframe tbody tr th:only-of-type {\n",
       "        vertical-align: middle;\n",
       "    }\n",
       "\n",
       "    .dataframe tbody tr th {\n",
       "        vertical-align: top;\n",
       "    }\n",
       "\n",
       "    .dataframe thead th {\n",
       "        text-align: right;\n",
       "    }\n",
       "</style>\n",
       "<table border=\"1\" class=\"dataframe\">\n",
       "  <thead>\n",
       "    <tr style=\"text-align: right;\">\n",
       "      <th></th>\n",
       "      <th>Track1</th>\n",
       "      <th>Track2</th>\n",
       "      <th>Similarity</th>\n",
       "    </tr>\n",
       "  </thead>\n",
       "  <tbody>\n",
       "    <tr>\n",
       "      <th>3544921</th>\n",
       "      <td>TRYNFBF128F428F432</td>\n",
       "      <td>TRXWXIN128EF34A5F2</td>\n",
       "      <td>0.965991</td>\n",
       "    </tr>\n",
       "    <tr>\n",
       "      <th>769032</th>\n",
       "      <td>TRZROGG12903CE9393</td>\n",
       "      <td>TRZYKVX12903CE93DE</td>\n",
       "      <td>1.000000</td>\n",
       "    </tr>\n",
       "    <tr>\n",
       "      <th>3388459</th>\n",
       "      <td>TRLIXGV128F9314EC1</td>\n",
       "      <td>TRWBRME128F4295FC4</td>\n",
       "      <td>0.777892</td>\n",
       "    </tr>\n",
       "    <tr>\n",
       "      <th>190267</th>\n",
       "      <td>TRUTGMA12903CFEC21</td>\n",
       "      <td>TRPNXBV128F146E51E</td>\n",
       "      <td>0.840061</td>\n",
       "    </tr>\n",
       "    <tr>\n",
       "      <th>167065</th>\n",
       "      <td>TRUIFZY128F42858FC</td>\n",
       "      <td>TRRGUWH128F42858F4</td>\n",
       "      <td>1.000000</td>\n",
       "    </tr>\n",
       "    <tr>\n",
       "      <th>1668592</th>\n",
       "      <td>TROLOXG128F4229E20</td>\n",
       "      <td>TRYZTBQ128F4229E1A</td>\n",
       "      <td>1.000000</td>\n",
       "    </tr>\n",
       "    <tr>\n",
       "      <th>3649943</th>\n",
       "      <td>TRYBKOT128F148D14B</td>\n",
       "      <td>TRQGEAE128E078992A</td>\n",
       "      <td>0.956417</td>\n",
       "    </tr>\n",
       "    <tr>\n",
       "      <th>2193749</th>\n",
       "      <td>TRCSGBC128F42791FC</td>\n",
       "      <td>TRUONWL128F425F670</td>\n",
       "      <td>0.715533</td>\n",
       "    </tr>\n",
       "    <tr>\n",
       "      <th>3562346</th>\n",
       "      <td>TRYTSXE128F92E5DF4</td>\n",
       "      <td>TRNHDDV128EF3620D9</td>\n",
       "      <td>0.757188</td>\n",
       "    </tr>\n",
       "    <tr>\n",
       "      <th>1163323</th>\n",
       "      <td>TRSVOJC12903CCE677</td>\n",
       "      <td>TRLHQVA128F9323D0E</td>\n",
       "      <td>0.613760</td>\n",
       "    </tr>\n",
       "    <tr>\n",
       "      <th>2405801</th>\n",
       "      <td>TRDQDQC12903CE884B</td>\n",
       "      <td>TRZFKEK128F92F3868</td>\n",
       "      <td>0.576101</td>\n",
       "    </tr>\n",
       "    <tr>\n",
       "      <th>3703596</th>\n",
       "      <td>TRPGIOE128F92E1177</td>\n",
       "      <td>TRCQYQL12903CB632A</td>\n",
       "      <td>0.859653</td>\n",
       "    </tr>\n",
       "  </tbody>\n",
       "</table>\n",
       "</div>"
      ],
      "text/plain": [
       "                     Track1              Track2  Similarity\n",
       "3544921  TRYNFBF128F428F432  TRXWXIN128EF34A5F2    0.965991\n",
       "769032   TRZROGG12903CE9393  TRZYKVX12903CE93DE    1.000000\n",
       "3388459  TRLIXGV128F9314EC1  TRWBRME128F4295FC4    0.777892\n",
       "190267   TRUTGMA12903CFEC21  TRPNXBV128F146E51E    0.840061\n",
       "167065   TRUIFZY128F42858FC  TRRGUWH128F42858F4    1.000000\n",
       "1668592  TROLOXG128F4229E20  TRYZTBQ128F4229E1A    1.000000\n",
       "3649943  TRYBKOT128F148D14B  TRQGEAE128E078992A    0.956417\n",
       "2193749  TRCSGBC128F42791FC  TRUONWL128F425F670    0.715533\n",
       "3562346  TRYTSXE128F92E5DF4  TRNHDDV128EF3620D9    0.757188\n",
       "1163323  TRSVOJC12903CCE677  TRLHQVA128F9323D0E    0.613760\n",
       "2405801  TRDQDQC12903CE884B  TRZFKEK128F92F3868    0.576101\n",
       "3703596  TRPGIOE128F92E1177  TRCQYQL12903CB632A    0.859653"
      ]
     },
     "execution_count": 45,
     "metadata": {},
     "output_type": "execute_result"
    }
   ],
   "source": [
    "train_sim.head(12)"
   ]
  },
  {
   "cell_type": "code",
   "execution_count": 46,
   "metadata": {},
   "outputs": [
    {
     "data": {
      "text/html": [
       "<div>\n",
       "<style scoped>\n",
       "    .dataframe tbody tr th:only-of-type {\n",
       "        vertical-align: middle;\n",
       "    }\n",
       "\n",
       "    .dataframe tbody tr th {\n",
       "        vertical-align: top;\n",
       "    }\n",
       "\n",
       "    .dataframe thead th {\n",
       "        text-align: right;\n",
       "    }\n",
       "</style>\n",
       "<table border=\"1\" class=\"dataframe\">\n",
       "  <thead>\n",
       "    <tr style=\"text-align: right;\">\n",
       "      <th></th>\n",
       "      <th>mxm_id</th>\n",
       "      <th>lyrics_id</th>\n",
       "      <th>lyrics</th>\n",
       "      <th>explicit</th>\n",
       "      <th>lyrics_language</th>\n",
       "      <th>lyrics_language_description</th>\n",
       "      <th>lyrics_length</th>\n",
       "      <th>msd_id</th>\n",
       "    </tr>\n",
       "  </thead>\n",
       "  <tbody>\n",
       "  </tbody>\n",
       "</table>\n",
       "</div>"
      ],
      "text/plain": [
       "Empty DataFrame\n",
       "Columns: [mxm_id, lyrics_id, lyrics, explicit, lyrics_language, lyrics_language_description, lyrics_length, msd_id]\n",
       "Index: []"
      ]
     },
     "execution_count": 46,
     "metadata": {},
     "output_type": "execute_result"
    }
   ],
   "source": [
    "# Issue: Not many song pairs have lyrics \n",
    "#small_df[small_df['msd_id'] == 'TRLHQVA128F9323D0E'] \n",
    "lyrics_df[lyrics_df['msd_id'] == 'TRLHQVA128F9323D0E']"
   ]
  },
  {
   "cell_type": "code",
   "execution_count": null,
   "metadata": {},
   "outputs": [],
   "source": []
  }
 ],
 "metadata": {
  "kernelspec": {
   "display_name": "Python 3",
   "language": "python",
   "name": "python3"
  },
  "language_info": {
   "codemirror_mode": {
    "name": "ipython",
    "version": 3
   },
   "file_extension": ".py",
   "mimetype": "text/x-python",
   "name": "python",
   "nbconvert_exporter": "python",
   "pygments_lexer": "ipython3",
   "version": "3.7.9"
  }
 },
 "nbformat": 4,
 "nbformat_minor": 4
}
